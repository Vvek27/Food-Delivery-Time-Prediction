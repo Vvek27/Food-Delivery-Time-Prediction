{
 "cells": [
  {
   "cell_type": "code",
   "execution_count": 110,
   "id": "2564d002",
   "metadata": {},
   "outputs": [],
   "source": [
    "import pandas as pd \n",
    "import numpy as np \n",
    "import matplotlib.pyplot as plt \n",
    "import seaborn as sns\n",
    "from scipy.stats import stats as st\n",
    "import statsmodels.api as sm\n",
    "\n",
    "\n",
    "import sklearn\n",
    "from sklearn.preprocessing import LabelEncoder,MinMaxScaler\n",
    "from sklearn.model_selection import train_test_split,GridSearchCV, cross_val_score\n",
    "from sklearn.linear_model import Ridge\n",
    "from sklearn.tree import DecisionTreeRegressor\n",
    "from sklearn.ensemble import RandomForestRegressor \n",
    "from xgboost import XGBRegressor\n",
    "from lightgbm import LGBMRegressor \n",
    "from sklearn.metrics import r2_score,mean_squared_error \n",
    "\n",
    "plt.style.use(\"ggplot\")\n",
    "import warnings\n",
    "warnings.filterwarnings(\"ignore\")"
   ]
  },
  {
   "cell_type": "markdown",
   "id": "e79e2349",
   "metadata": {},
   "source": [
    "### 1. Reading the Data "
   ]
  },
  {
   "cell_type": "code",
   "execution_count": 2,
   "id": "9b6dd15d",
   "metadata": {},
   "outputs": [
    {
     "data": {
      "text/html": [
       "<div>\n",
       "<style scoped>\n",
       "    .dataframe tbody tr th:only-of-type {\n",
       "        vertical-align: middle;\n",
       "    }\n",
       "\n",
       "    .dataframe tbody tr th {\n",
       "        vertical-align: top;\n",
       "    }\n",
       "\n",
       "    .dataframe thead th {\n",
       "        text-align: right;\n",
       "    }\n",
       "</style>\n",
       "<table border=\"1\" class=\"dataframe\">\n",
       "  <thead>\n",
       "    <tr style=\"text-align: right;\">\n",
       "      <th></th>\n",
       "      <th>ID</th>\n",
       "      <th>Delivery_person_ID</th>\n",
       "      <th>Delivery_person_Age</th>\n",
       "      <th>Delivery_person_Ratings</th>\n",
       "      <th>Restaurant_latitude</th>\n",
       "      <th>Restaurant_longitude</th>\n",
       "      <th>Delivery_location_latitude</th>\n",
       "      <th>Delivery_location_longitude</th>\n",
       "      <th>Order_Date</th>\n",
       "      <th>Time_Orderd</th>\n",
       "      <th>Time_Order_picked</th>\n",
       "      <th>Weatherconditions</th>\n",
       "      <th>Road_traffic_density</th>\n",
       "      <th>Vehicle_condition</th>\n",
       "      <th>Type_of_order</th>\n",
       "      <th>Type_of_vehicle</th>\n",
       "      <th>multiple_deliveries</th>\n",
       "      <th>Festival</th>\n",
       "      <th>City</th>\n",
       "      <th>Time_taken(min)</th>\n",
       "    </tr>\n",
       "  </thead>\n",
       "  <tbody>\n",
       "    <tr>\n",
       "      <th>0</th>\n",
       "      <td>0x4607</td>\n",
       "      <td>INDORES13DEL02</td>\n",
       "      <td>37</td>\n",
       "      <td>4.9</td>\n",
       "      <td>22.745049</td>\n",
       "      <td>75.892471</td>\n",
       "      <td>22.765049</td>\n",
       "      <td>75.912471</td>\n",
       "      <td>19-03-2022</td>\n",
       "      <td>11:30:00</td>\n",
       "      <td>11:45:00</td>\n",
       "      <td>conditions Sunny</td>\n",
       "      <td>High</td>\n",
       "      <td>2</td>\n",
       "      <td>Snack</td>\n",
       "      <td>motorcycle</td>\n",
       "      <td>0</td>\n",
       "      <td>No</td>\n",
       "      <td>Urban</td>\n",
       "      <td>(min) 24</td>\n",
       "    </tr>\n",
       "    <tr>\n",
       "      <th>1</th>\n",
       "      <td>0xb379</td>\n",
       "      <td>BANGRES18DEL02</td>\n",
       "      <td>34</td>\n",
       "      <td>4.5</td>\n",
       "      <td>12.913041</td>\n",
       "      <td>77.683237</td>\n",
       "      <td>13.043041</td>\n",
       "      <td>77.813237</td>\n",
       "      <td>25-03-2022</td>\n",
       "      <td>19:45:00</td>\n",
       "      <td>19:50:00</td>\n",
       "      <td>conditions Stormy</td>\n",
       "      <td>Jam</td>\n",
       "      <td>2</td>\n",
       "      <td>Snack</td>\n",
       "      <td>scooter</td>\n",
       "      <td>1</td>\n",
       "      <td>No</td>\n",
       "      <td>Metropolitian</td>\n",
       "      <td>(min) 33</td>\n",
       "    </tr>\n",
       "    <tr>\n",
       "      <th>2</th>\n",
       "      <td>0x5d6d</td>\n",
       "      <td>BANGRES19DEL01</td>\n",
       "      <td>23</td>\n",
       "      <td>4.4</td>\n",
       "      <td>12.914264</td>\n",
       "      <td>77.678400</td>\n",
       "      <td>12.924264</td>\n",
       "      <td>77.688400</td>\n",
       "      <td>19-03-2022</td>\n",
       "      <td>08:30:00</td>\n",
       "      <td>08:45:00</td>\n",
       "      <td>conditions Sandstorms</td>\n",
       "      <td>Low</td>\n",
       "      <td>0</td>\n",
       "      <td>Drinks</td>\n",
       "      <td>motorcycle</td>\n",
       "      <td>1</td>\n",
       "      <td>No</td>\n",
       "      <td>Urban</td>\n",
       "      <td>(min) 26</td>\n",
       "    </tr>\n",
       "    <tr>\n",
       "      <th>3</th>\n",
       "      <td>0x7a6a</td>\n",
       "      <td>COIMBRES13DEL02</td>\n",
       "      <td>38</td>\n",
       "      <td>4.7</td>\n",
       "      <td>11.003669</td>\n",
       "      <td>76.976494</td>\n",
       "      <td>11.053669</td>\n",
       "      <td>77.026494</td>\n",
       "      <td>05-04-2022</td>\n",
       "      <td>18:00:00</td>\n",
       "      <td>18:10:00</td>\n",
       "      <td>conditions Sunny</td>\n",
       "      <td>Medium</td>\n",
       "      <td>0</td>\n",
       "      <td>Buffet</td>\n",
       "      <td>motorcycle</td>\n",
       "      <td>1</td>\n",
       "      <td>No</td>\n",
       "      <td>Metropolitian</td>\n",
       "      <td>(min) 21</td>\n",
       "    </tr>\n",
       "    <tr>\n",
       "      <th>4</th>\n",
       "      <td>0x70a2</td>\n",
       "      <td>CHENRES12DEL01</td>\n",
       "      <td>32</td>\n",
       "      <td>4.6</td>\n",
       "      <td>12.972793</td>\n",
       "      <td>80.249982</td>\n",
       "      <td>13.012793</td>\n",
       "      <td>80.289982</td>\n",
       "      <td>26-03-2022</td>\n",
       "      <td>13:30:00</td>\n",
       "      <td>13:45:00</td>\n",
       "      <td>conditions Cloudy</td>\n",
       "      <td>High</td>\n",
       "      <td>1</td>\n",
       "      <td>Snack</td>\n",
       "      <td>scooter</td>\n",
       "      <td>1</td>\n",
       "      <td>No</td>\n",
       "      <td>Metropolitian</td>\n",
       "      <td>(min) 30</td>\n",
       "    </tr>\n",
       "  </tbody>\n",
       "</table>\n",
       "</div>"
      ],
      "text/plain": [
       "        ID Delivery_person_ID Delivery_person_Age Delivery_person_Ratings  \\\n",
       "0  0x4607     INDORES13DEL02                   37                     4.9   \n",
       "1  0xb379     BANGRES18DEL02                   34                     4.5   \n",
       "2  0x5d6d     BANGRES19DEL01                   23                     4.4   \n",
       "3  0x7a6a    COIMBRES13DEL02                   38                     4.7   \n",
       "4  0x70a2     CHENRES12DEL01                   32                     4.6   \n",
       "\n",
       "   Restaurant_latitude  Restaurant_longitude  Delivery_location_latitude  \\\n",
       "0            22.745049             75.892471                   22.765049   \n",
       "1            12.913041             77.683237                   13.043041   \n",
       "2            12.914264             77.678400                   12.924264   \n",
       "3            11.003669             76.976494                   11.053669   \n",
       "4            12.972793             80.249982                   13.012793   \n",
       "\n",
       "   Delivery_location_longitude  Order_Date Time_Orderd Time_Order_picked  \\\n",
       "0                    75.912471  19-03-2022    11:30:00          11:45:00   \n",
       "1                    77.813237  25-03-2022    19:45:00          19:50:00   \n",
       "2                    77.688400  19-03-2022    08:30:00          08:45:00   \n",
       "3                    77.026494  05-04-2022    18:00:00          18:10:00   \n",
       "4                    80.289982  26-03-2022    13:30:00          13:45:00   \n",
       "\n",
       "       Weatherconditions Road_traffic_density  Vehicle_condition  \\\n",
       "0       conditions Sunny                High                   2   \n",
       "1      conditions Stormy                 Jam                   2   \n",
       "2  conditions Sandstorms                 Low                   0   \n",
       "3       conditions Sunny              Medium                   0   \n",
       "4      conditions Cloudy                High                   1   \n",
       "\n",
       "  Type_of_order Type_of_vehicle multiple_deliveries Festival            City  \\\n",
       "0        Snack      motorcycle                    0      No           Urban    \n",
       "1        Snack         scooter                    1      No   Metropolitian    \n",
       "2       Drinks      motorcycle                    1      No           Urban    \n",
       "3       Buffet      motorcycle                    1      No   Metropolitian    \n",
       "4        Snack         scooter                    1      No   Metropolitian    \n",
       "\n",
       "  Time_taken(min)  \n",
       "0        (min) 24  \n",
       "1        (min) 33  \n",
       "2        (min) 26  \n",
       "3        (min) 21  \n",
       "4        (min) 30  "
      ]
     },
     "execution_count": 2,
     "metadata": {},
     "output_type": "execute_result"
    }
   ],
   "source": [
    "df = pd.read_csv(\"train.csv\")\n",
    "df.head()"
   ]
  },
  {
   "cell_type": "code",
   "execution_count": 3,
   "id": "3cbfee60",
   "metadata": {},
   "outputs": [
    {
     "data": {
      "text/plain": [
       "(45593, 20)"
      ]
     },
     "execution_count": 3,
     "metadata": {},
     "output_type": "execute_result"
    }
   ],
   "source": [
    "df.shape "
   ]
  },
  {
   "cell_type": "code",
   "execution_count": 4,
   "id": "7bba9e98",
   "metadata": {},
   "outputs": [
    {
     "name": "stdout",
     "output_type": "stream",
     "text": [
      "<class 'pandas.core.frame.DataFrame'>\n",
      "RangeIndex: 45593 entries, 0 to 45592\n",
      "Data columns (total 20 columns):\n",
      " #   Column                       Non-Null Count  Dtype  \n",
      "---  ------                       --------------  -----  \n",
      " 0   ID                           45593 non-null  object \n",
      " 1   Delivery_person_ID           45593 non-null  object \n",
      " 2   Delivery_person_Age          45593 non-null  object \n",
      " 3   Delivery_person_Ratings      45593 non-null  object \n",
      " 4   Restaurant_latitude          45593 non-null  float64\n",
      " 5   Restaurant_longitude         45593 non-null  float64\n",
      " 6   Delivery_location_latitude   45593 non-null  float64\n",
      " 7   Delivery_location_longitude  45593 non-null  float64\n",
      " 8   Order_Date                   45593 non-null  object \n",
      " 9   Time_Orderd                  45593 non-null  object \n",
      " 10  Time_Order_picked            45593 non-null  object \n",
      " 11  Weatherconditions            45593 non-null  object \n",
      " 12  Road_traffic_density         45593 non-null  object \n",
      " 13  Vehicle_condition            45593 non-null  int64  \n",
      " 14  Type_of_order                45593 non-null  object \n",
      " 15  Type_of_vehicle              45593 non-null  object \n",
      " 16  multiple_deliveries          45593 non-null  object \n",
      " 17  Festival                     45593 non-null  object \n",
      " 18  City                         45593 non-null  object \n",
      " 19  Time_taken(min)              45593 non-null  object \n",
      "dtypes: float64(4), int64(1), object(15)\n",
      "memory usage: 7.0+ MB\n"
     ]
    }
   ],
   "source": [
    "df.info()"
   ]
  },
  {
   "cell_type": "code",
   "execution_count": 5,
   "id": "bc6340a2",
   "metadata": {},
   "outputs": [
    {
     "data": {
      "text/html": [
       "<div>\n",
       "<style scoped>\n",
       "    .dataframe tbody tr th:only-of-type {\n",
       "        vertical-align: middle;\n",
       "    }\n",
       "\n",
       "    .dataframe tbody tr th {\n",
       "        vertical-align: top;\n",
       "    }\n",
       "\n",
       "    .dataframe thead th {\n",
       "        text-align: right;\n",
       "    }\n",
       "</style>\n",
       "<table border=\"1\" class=\"dataframe\">\n",
       "  <thead>\n",
       "    <tr style=\"text-align: right;\">\n",
       "      <th></th>\n",
       "      <th>count</th>\n",
       "      <th>mean</th>\n",
       "      <th>std</th>\n",
       "      <th>min</th>\n",
       "      <th>25%</th>\n",
       "      <th>50%</th>\n",
       "      <th>75%</th>\n",
       "      <th>max</th>\n",
       "    </tr>\n",
       "  </thead>\n",
       "  <tbody>\n",
       "    <tr>\n",
       "      <th>Restaurant_latitude</th>\n",
       "      <td>45593.0</td>\n",
       "      <td>17.017729</td>\n",
       "      <td>8.185109</td>\n",
       "      <td>-30.905562</td>\n",
       "      <td>12.933284</td>\n",
       "      <td>18.546947</td>\n",
       "      <td>22.728163</td>\n",
       "      <td>30.914057</td>\n",
       "    </tr>\n",
       "    <tr>\n",
       "      <th>Restaurant_longitude</th>\n",
       "      <td>45593.0</td>\n",
       "      <td>70.231332</td>\n",
       "      <td>22.883647</td>\n",
       "      <td>-88.366217</td>\n",
       "      <td>73.170000</td>\n",
       "      <td>75.898497</td>\n",
       "      <td>78.044095</td>\n",
       "      <td>88.433452</td>\n",
       "    </tr>\n",
       "    <tr>\n",
       "      <th>Delivery_location_latitude</th>\n",
       "      <td>45593.0</td>\n",
       "      <td>17.465186</td>\n",
       "      <td>7.335122</td>\n",
       "      <td>0.010000</td>\n",
       "      <td>12.988453</td>\n",
       "      <td>18.633934</td>\n",
       "      <td>22.785049</td>\n",
       "      <td>31.054057</td>\n",
       "    </tr>\n",
       "    <tr>\n",
       "      <th>Delivery_location_longitude</th>\n",
       "      <td>45593.0</td>\n",
       "      <td>70.845702</td>\n",
       "      <td>21.118812</td>\n",
       "      <td>0.010000</td>\n",
       "      <td>73.280000</td>\n",
       "      <td>76.002574</td>\n",
       "      <td>78.107044</td>\n",
       "      <td>88.563452</td>\n",
       "    </tr>\n",
       "    <tr>\n",
       "      <th>Vehicle_condition</th>\n",
       "      <td>45593.0</td>\n",
       "      <td>1.023359</td>\n",
       "      <td>0.839065</td>\n",
       "      <td>0.000000</td>\n",
       "      <td>0.000000</td>\n",
       "      <td>1.000000</td>\n",
       "      <td>2.000000</td>\n",
       "      <td>3.000000</td>\n",
       "    </tr>\n",
       "  </tbody>\n",
       "</table>\n",
       "</div>"
      ],
      "text/plain": [
       "                               count       mean        std        min  \\\n",
       "Restaurant_latitude          45593.0  17.017729   8.185109 -30.905562   \n",
       "Restaurant_longitude         45593.0  70.231332  22.883647 -88.366217   \n",
       "Delivery_location_latitude   45593.0  17.465186   7.335122   0.010000   \n",
       "Delivery_location_longitude  45593.0  70.845702  21.118812   0.010000   \n",
       "Vehicle_condition            45593.0   1.023359   0.839065   0.000000   \n",
       "\n",
       "                                   25%        50%        75%        max  \n",
       "Restaurant_latitude          12.933284  18.546947  22.728163  30.914057  \n",
       "Restaurant_longitude         73.170000  75.898497  78.044095  88.433452  \n",
       "Delivery_location_latitude   12.988453  18.633934  22.785049  31.054057  \n",
       "Delivery_location_longitude  73.280000  76.002574  78.107044  88.563452  \n",
       "Vehicle_condition             0.000000   1.000000   2.000000   3.000000  "
      ]
     },
     "execution_count": 5,
     "metadata": {},
     "output_type": "execute_result"
    }
   ],
   "source": [
    "df.describe().T"
   ]
  },
  {
   "cell_type": "code",
   "execution_count": 6,
   "id": "0beb6ebf",
   "metadata": {},
   "outputs": [
    {
     "data": {
      "text/html": [
       "<div>\n",
       "<style scoped>\n",
       "    .dataframe tbody tr th:only-of-type {\n",
       "        vertical-align: middle;\n",
       "    }\n",
       "\n",
       "    .dataframe tbody tr th {\n",
       "        vertical-align: top;\n",
       "    }\n",
       "\n",
       "    .dataframe thead th {\n",
       "        text-align: right;\n",
       "    }\n",
       "</style>\n",
       "<table border=\"1\" class=\"dataframe\">\n",
       "  <thead>\n",
       "    <tr style=\"text-align: right;\">\n",
       "      <th></th>\n",
       "      <th>ID</th>\n",
       "      <th>Delivery_person_ID</th>\n",
       "      <th>Delivery_person_Age</th>\n",
       "      <th>Delivery_person_Ratings</th>\n",
       "      <th>Order_Date</th>\n",
       "      <th>Time_Orderd</th>\n",
       "      <th>Time_Order_picked</th>\n",
       "      <th>Weatherconditions</th>\n",
       "      <th>Road_traffic_density</th>\n",
       "      <th>Type_of_order</th>\n",
       "      <th>Type_of_vehicle</th>\n",
       "      <th>multiple_deliveries</th>\n",
       "      <th>Festival</th>\n",
       "      <th>City</th>\n",
       "      <th>Time_taken(min)</th>\n",
       "    </tr>\n",
       "  </thead>\n",
       "  <tbody>\n",
       "    <tr>\n",
       "      <th>count</th>\n",
       "      <td>45593</td>\n",
       "      <td>45593</td>\n",
       "      <td>45593</td>\n",
       "      <td>45593</td>\n",
       "      <td>45593</td>\n",
       "      <td>45593</td>\n",
       "      <td>45593</td>\n",
       "      <td>45593</td>\n",
       "      <td>45593</td>\n",
       "      <td>45593</td>\n",
       "      <td>45593</td>\n",
       "      <td>45593</td>\n",
       "      <td>45593</td>\n",
       "      <td>45593</td>\n",
       "      <td>45593</td>\n",
       "    </tr>\n",
       "    <tr>\n",
       "      <th>unique</th>\n",
       "      <td>45593</td>\n",
       "      <td>1320</td>\n",
       "      <td>23</td>\n",
       "      <td>29</td>\n",
       "      <td>44</td>\n",
       "      <td>177</td>\n",
       "      <td>193</td>\n",
       "      <td>7</td>\n",
       "      <td>5</td>\n",
       "      <td>4</td>\n",
       "      <td>4</td>\n",
       "      <td>5</td>\n",
       "      <td>3</td>\n",
       "      <td>4</td>\n",
       "      <td>45</td>\n",
       "    </tr>\n",
       "    <tr>\n",
       "      <th>top</th>\n",
       "      <td>0x4607</td>\n",
       "      <td>PUNERES01DEL01</td>\n",
       "      <td>35</td>\n",
       "      <td>4.8</td>\n",
       "      <td>15-03-2022</td>\n",
       "      <td>NaN</td>\n",
       "      <td>21:30:00</td>\n",
       "      <td>conditions Fog</td>\n",
       "      <td>Low</td>\n",
       "      <td>Snack</td>\n",
       "      <td>motorcycle</td>\n",
       "      <td>1</td>\n",
       "      <td>No</td>\n",
       "      <td>Metropolitian</td>\n",
       "      <td>(min) 26</td>\n",
       "    </tr>\n",
       "    <tr>\n",
       "      <th>freq</th>\n",
       "      <td>1</td>\n",
       "      <td>67</td>\n",
       "      <td>2262</td>\n",
       "      <td>7148</td>\n",
       "      <td>1192</td>\n",
       "      <td>1731</td>\n",
       "      <td>496</td>\n",
       "      <td>7654</td>\n",
       "      <td>15477</td>\n",
       "      <td>11533</td>\n",
       "      <td>26435</td>\n",
       "      <td>28159</td>\n",
       "      <td>44469</td>\n",
       "      <td>34093</td>\n",
       "      <td>2123</td>\n",
       "    </tr>\n",
       "  </tbody>\n",
       "</table>\n",
       "</div>"
      ],
      "text/plain": [
       "             ID Delivery_person_ID Delivery_person_Age  \\\n",
       "count     45593              45593               45593   \n",
       "unique    45593               1320                  23   \n",
       "top     0x4607     PUNERES01DEL01                   35   \n",
       "freq          1                 67                2262   \n",
       "\n",
       "       Delivery_person_Ratings  Order_Date Time_Orderd Time_Order_picked  \\\n",
       "count                    45593       45593       45593             45593   \n",
       "unique                      29          44         177               193   \n",
       "top                        4.8  15-03-2022        NaN           21:30:00   \n",
       "freq                      7148        1192        1731               496   \n",
       "\n",
       "       Weatherconditions Road_traffic_density Type_of_order Type_of_vehicle  \\\n",
       "count              45593                45593         45593           45593   \n",
       "unique                 7                    5             4               4   \n",
       "top       conditions Fog                 Low         Snack      motorcycle    \n",
       "freq                7654                15477         11533           26435   \n",
       "\n",
       "       multiple_deliveries Festival            City Time_taken(min)  \n",
       "count                45593    45593           45593           45593  \n",
       "unique                   5        3               4              45  \n",
       "top                      1      No   Metropolitian         (min) 26  \n",
       "freq                 28159    44469           34093            2123  "
      ]
     },
     "execution_count": 6,
     "metadata": {},
     "output_type": "execute_result"
    }
   ],
   "source": [
    "df.describe(include=\"object\")"
   ]
  },
  {
   "cell_type": "markdown",
   "id": "39b51306",
   "metadata": {},
   "source": [
    "### 2. Data Preprocessing and Visualization "
   ]
  },
  {
   "cell_type": "code",
   "execution_count": 7,
   "id": "72aec77f",
   "metadata": {},
   "outputs": [
    {
     "data": {
      "text/html": [
       "<div>\n",
       "<style scoped>\n",
       "    .dataframe tbody tr th:only-of-type {\n",
       "        vertical-align: middle;\n",
       "    }\n",
       "\n",
       "    .dataframe tbody tr th {\n",
       "        vertical-align: top;\n",
       "    }\n",
       "\n",
       "    .dataframe thead th {\n",
       "        text-align: right;\n",
       "    }\n",
       "</style>\n",
       "<table border=\"1\" class=\"dataframe\">\n",
       "  <thead>\n",
       "    <tr style=\"text-align: right;\">\n",
       "      <th></th>\n",
       "      <th>ID</th>\n",
       "      <th>Delivery_person_ID</th>\n",
       "      <th>Delivery_person_Age</th>\n",
       "      <th>Delivery_person_Ratings</th>\n",
       "      <th>Restaurant_latitude</th>\n",
       "      <th>Restaurant_longitude</th>\n",
       "      <th>Delivery_location_latitude</th>\n",
       "      <th>Delivery_location_longitude</th>\n",
       "      <th>Order_Date</th>\n",
       "      <th>Time_Orderd</th>\n",
       "      <th>Time_Order_picked</th>\n",
       "      <th>Weatherconditions</th>\n",
       "      <th>Road_traffic_density</th>\n",
       "      <th>Vehicle_condition</th>\n",
       "      <th>Type_of_order</th>\n",
       "      <th>Type_of_vehicle</th>\n",
       "      <th>multiple_deliveries</th>\n",
       "      <th>Festival</th>\n",
       "      <th>City</th>\n",
       "      <th>Time_taken(min)</th>\n",
       "    </tr>\n",
       "  </thead>\n",
       "  <tbody>\n",
       "    <tr>\n",
       "      <th>0</th>\n",
       "      <td>0x4607</td>\n",
       "      <td>INDORES13DEL02</td>\n",
       "      <td>37</td>\n",
       "      <td>4.9</td>\n",
       "      <td>22.745049</td>\n",
       "      <td>75.892471</td>\n",
       "      <td>22.765049</td>\n",
       "      <td>75.912471</td>\n",
       "      <td>19-03-2022</td>\n",
       "      <td>11:30:00</td>\n",
       "      <td>11:45:00</td>\n",
       "      <td>conditions Sunny</td>\n",
       "      <td>High</td>\n",
       "      <td>2</td>\n",
       "      <td>Snack</td>\n",
       "      <td>motorcycle</td>\n",
       "      <td>0</td>\n",
       "      <td>No</td>\n",
       "      <td>Urban</td>\n",
       "      <td>(min) 24</td>\n",
       "    </tr>\n",
       "    <tr>\n",
       "      <th>1</th>\n",
       "      <td>0xb379</td>\n",
       "      <td>BANGRES18DEL02</td>\n",
       "      <td>34</td>\n",
       "      <td>4.5</td>\n",
       "      <td>12.913041</td>\n",
       "      <td>77.683237</td>\n",
       "      <td>13.043041</td>\n",
       "      <td>77.813237</td>\n",
       "      <td>25-03-2022</td>\n",
       "      <td>19:45:00</td>\n",
       "      <td>19:50:00</td>\n",
       "      <td>conditions Stormy</td>\n",
       "      <td>Jam</td>\n",
       "      <td>2</td>\n",
       "      <td>Snack</td>\n",
       "      <td>scooter</td>\n",
       "      <td>1</td>\n",
       "      <td>No</td>\n",
       "      <td>Metropolitian</td>\n",
       "      <td>(min) 33</td>\n",
       "    </tr>\n",
       "    <tr>\n",
       "      <th>2</th>\n",
       "      <td>0x5d6d</td>\n",
       "      <td>BANGRES19DEL01</td>\n",
       "      <td>23</td>\n",
       "      <td>4.4</td>\n",
       "      <td>12.914264</td>\n",
       "      <td>77.678400</td>\n",
       "      <td>12.924264</td>\n",
       "      <td>77.688400</td>\n",
       "      <td>19-03-2022</td>\n",
       "      <td>08:30:00</td>\n",
       "      <td>08:45:00</td>\n",
       "      <td>conditions Sandstorms</td>\n",
       "      <td>Low</td>\n",
       "      <td>0</td>\n",
       "      <td>Drinks</td>\n",
       "      <td>motorcycle</td>\n",
       "      <td>1</td>\n",
       "      <td>No</td>\n",
       "      <td>Urban</td>\n",
       "      <td>(min) 26</td>\n",
       "    </tr>\n",
       "    <tr>\n",
       "      <th>3</th>\n",
       "      <td>0x7a6a</td>\n",
       "      <td>COIMBRES13DEL02</td>\n",
       "      <td>38</td>\n",
       "      <td>4.7</td>\n",
       "      <td>11.003669</td>\n",
       "      <td>76.976494</td>\n",
       "      <td>11.053669</td>\n",
       "      <td>77.026494</td>\n",
       "      <td>05-04-2022</td>\n",
       "      <td>18:00:00</td>\n",
       "      <td>18:10:00</td>\n",
       "      <td>conditions Sunny</td>\n",
       "      <td>Medium</td>\n",
       "      <td>0</td>\n",
       "      <td>Buffet</td>\n",
       "      <td>motorcycle</td>\n",
       "      <td>1</td>\n",
       "      <td>No</td>\n",
       "      <td>Metropolitian</td>\n",
       "      <td>(min) 21</td>\n",
       "    </tr>\n",
       "    <tr>\n",
       "      <th>4</th>\n",
       "      <td>0x70a2</td>\n",
       "      <td>CHENRES12DEL01</td>\n",
       "      <td>32</td>\n",
       "      <td>4.6</td>\n",
       "      <td>12.972793</td>\n",
       "      <td>80.249982</td>\n",
       "      <td>13.012793</td>\n",
       "      <td>80.289982</td>\n",
       "      <td>26-03-2022</td>\n",
       "      <td>13:30:00</td>\n",
       "      <td>13:45:00</td>\n",
       "      <td>conditions Cloudy</td>\n",
       "      <td>High</td>\n",
       "      <td>1</td>\n",
       "      <td>Snack</td>\n",
       "      <td>scooter</td>\n",
       "      <td>1</td>\n",
       "      <td>No</td>\n",
       "      <td>Metropolitian</td>\n",
       "      <td>(min) 30</td>\n",
       "    </tr>\n",
       "  </tbody>\n",
       "</table>\n",
       "</div>"
      ],
      "text/plain": [
       "        ID Delivery_person_ID Delivery_person_Age Delivery_person_Ratings  \\\n",
       "0  0x4607     INDORES13DEL02                   37                     4.9   \n",
       "1  0xb379     BANGRES18DEL02                   34                     4.5   \n",
       "2  0x5d6d     BANGRES19DEL01                   23                     4.4   \n",
       "3  0x7a6a    COIMBRES13DEL02                   38                     4.7   \n",
       "4  0x70a2     CHENRES12DEL01                   32                     4.6   \n",
       "\n",
       "   Restaurant_latitude  Restaurant_longitude  Delivery_location_latitude  \\\n",
       "0            22.745049             75.892471                   22.765049   \n",
       "1            12.913041             77.683237                   13.043041   \n",
       "2            12.914264             77.678400                   12.924264   \n",
       "3            11.003669             76.976494                   11.053669   \n",
       "4            12.972793             80.249982                   13.012793   \n",
       "\n",
       "   Delivery_location_longitude  Order_Date Time_Orderd Time_Order_picked  \\\n",
       "0                    75.912471  19-03-2022    11:30:00          11:45:00   \n",
       "1                    77.813237  25-03-2022    19:45:00          19:50:00   \n",
       "2                    77.688400  19-03-2022    08:30:00          08:45:00   \n",
       "3                    77.026494  05-04-2022    18:00:00          18:10:00   \n",
       "4                    80.289982  26-03-2022    13:30:00          13:45:00   \n",
       "\n",
       "       Weatherconditions Road_traffic_density  Vehicle_condition  \\\n",
       "0       conditions Sunny                High                   2   \n",
       "1      conditions Stormy                 Jam                   2   \n",
       "2  conditions Sandstorms                 Low                   0   \n",
       "3       conditions Sunny              Medium                   0   \n",
       "4      conditions Cloudy                High                   1   \n",
       "\n",
       "  Type_of_order Type_of_vehicle multiple_deliveries Festival            City  \\\n",
       "0        Snack      motorcycle                    0      No           Urban    \n",
       "1        Snack         scooter                    1      No   Metropolitian    \n",
       "2       Drinks      motorcycle                    1      No           Urban    \n",
       "3       Buffet      motorcycle                    1      No   Metropolitian    \n",
       "4        Snack         scooter                    1      No   Metropolitian    \n",
       "\n",
       "  Time_taken(min)  \n",
       "0        (min) 24  \n",
       "1        (min) 33  \n",
       "2        (min) 26  \n",
       "3        (min) 21  \n",
       "4        (min) 30  "
      ]
     },
     "execution_count": 7,
     "metadata": {},
     "output_type": "execute_result"
    }
   ],
   "source": [
    "df.head()"
   ]
  },
  {
   "cell_type": "code",
   "execution_count": 8,
   "id": "b0741322",
   "metadata": {},
   "outputs": [],
   "source": [
    "# Rename the column names \n",
    "df.rename(columns = {\"City\":\"City_area\",\"Weatherconditions\":\"Weather_conditions\",\"Time_taken(min)\":\"Time_taken\"},inplace=True)"
   ]
  },
  {
   "cell_type": "markdown",
   "id": "20537f55",
   "metadata": {},
   "source": [
    "* Extracting city from delivery person id col\n",
    "* Extracting time from time taken col and coverting to int"
   ]
  },
  {
   "cell_type": "code",
   "execution_count": 9,
   "id": "73499e39",
   "metadata": {},
   "outputs": [],
   "source": [
    "df[\"City\"] = df[\"Delivery_person_ID\"].str.split(\"RES\").str[0]\n",
    "df[\"Time_taken\"] = df[\"Time_taken\"].str.split(\" \").str[-1].astype(\"int\")"
   ]
  },
  {
   "cell_type": "code",
   "execution_count": 10,
   "id": "afbf5026",
   "metadata": {},
   "outputs": [],
   "source": [
    "# drop unuseful columns \n",
    "df.drop(columns = [\"ID\",\"Delivery_person_ID\"],axis=1,inplace=True)"
   ]
  },
  {
   "cell_type": "code",
   "execution_count": 11,
   "id": "3f4aa717",
   "metadata": {
    "scrolled": true
   },
   "outputs": [
    {
     "data": {
      "text/html": [
       "<div>\n",
       "<style scoped>\n",
       "    .dataframe tbody tr th:only-of-type {\n",
       "        vertical-align: middle;\n",
       "    }\n",
       "\n",
       "    .dataframe tbody tr th {\n",
       "        vertical-align: top;\n",
       "    }\n",
       "\n",
       "    .dataframe thead th {\n",
       "        text-align: right;\n",
       "    }\n",
       "</style>\n",
       "<table border=\"1\" class=\"dataframe\">\n",
       "  <thead>\n",
       "    <tr style=\"text-align: right;\">\n",
       "      <th></th>\n",
       "      <th>Delivery_person_Age</th>\n",
       "      <th>Delivery_person_Ratings</th>\n",
       "      <th>Restaurant_latitude</th>\n",
       "      <th>Restaurant_longitude</th>\n",
       "      <th>Delivery_location_latitude</th>\n",
       "      <th>Delivery_location_longitude</th>\n",
       "      <th>Order_Date</th>\n",
       "      <th>Time_Orderd</th>\n",
       "      <th>Time_Order_picked</th>\n",
       "      <th>Weather_conditions</th>\n",
       "      <th>Road_traffic_density</th>\n",
       "      <th>Vehicle_condition</th>\n",
       "      <th>Type_of_order</th>\n",
       "      <th>Type_of_vehicle</th>\n",
       "      <th>multiple_deliveries</th>\n",
       "      <th>Festival</th>\n",
       "      <th>City_area</th>\n",
       "      <th>Time_taken</th>\n",
       "      <th>City</th>\n",
       "    </tr>\n",
       "  </thead>\n",
       "  <tbody>\n",
       "  </tbody>\n",
       "</table>\n",
       "</div>"
      ],
      "text/plain": [
       "Empty DataFrame\n",
       "Columns: [Delivery_person_Age, Delivery_person_Ratings, Restaurant_latitude, Restaurant_longitude, Delivery_location_latitude, Delivery_location_longitude, Order_Date, Time_Orderd, Time_Order_picked, Weather_conditions, Road_traffic_density, Vehicle_condition, Type_of_order, Type_of_vehicle, multiple_deliveries, Festival, City_area, Time_taken, City]\n",
       "Index: []"
      ]
     },
     "execution_count": 11,
     "metadata": {},
     "output_type": "execute_result"
    }
   ],
   "source": [
    "# checking duplicates \n",
    "df[df.duplicated()]"
   ]
  },
  {
   "cell_type": "code",
   "execution_count": 12,
   "id": "1a4b7c3c",
   "metadata": {},
   "outputs": [
    {
     "data": {
      "text/plain": [
       "Delivery_person_Age            0\n",
       "Delivery_person_Ratings        0\n",
       "Restaurant_latitude            0\n",
       "Restaurant_longitude           0\n",
       "Delivery_location_latitude     0\n",
       "Delivery_location_longitude    0\n",
       "Order_Date                     0\n",
       "Time_Orderd                    0\n",
       "Time_Order_picked              0\n",
       "Weather_conditions             0\n",
       "Road_traffic_density           0\n",
       "Vehicle_condition              0\n",
       "Type_of_order                  0\n",
       "Type_of_vehicle                0\n",
       "multiple_deliveries            0\n",
       "Festival                       0\n",
       "City_area                      0\n",
       "Time_taken                     0\n",
       "City                           0\n",
       "dtype: int64"
      ]
     },
     "execution_count": 12,
     "metadata": {},
     "output_type": "execute_result"
    }
   ],
   "source": [
    "# checking null values \n",
    "df.isnull().sum()"
   ]
  },
  {
   "cell_type": "code",
   "execution_count": 13,
   "id": "1cedab8f",
   "metadata": {},
   "outputs": [
    {
     "name": "stdout",
     "output_type": "stream",
     "text": [
      "NaN  lan_length : 4\n"
     ]
    }
   ],
   "source": [
    "# we have seen already nan in describe method \n",
    "nan_length = df[\"Time_Orderd\"].value_counts().index[0]\n",
    "print(f\"{nan_length} lan_length : {len(nan_length)}\")"
   ]
  },
  {
   "cell_type": "code",
   "execution_count": 14,
   "id": "91db03e5",
   "metadata": {
    "scrolled": true
   },
   "outputs": [
    {
     "name": "stdout",
     "output_type": "stream",
     "text": [
      "Delivery_person_Age null count : 1854\n",
      "Delivery_person_Ratings null count : 1908\n",
      "Order_Date null count : 0\n",
      "Time_Orderd null count : 1731\n",
      "Time_Order_picked null count : 0\n",
      "Weather_conditions null count : 616\n",
      "Road_traffic_density null count : 601\n",
      "Type_of_order null count : 0\n",
      "Type_of_vehicle null count : 0\n",
      "multiple_deliveries null count : 993\n",
      "Festival null count : 228\n",
      "City_area null count : 1200\n",
      "City null count : 0\n"
     ]
    }
   ],
   "source": [
    "# checking string value of nan in every column may be there are chances that they have written in other form like 'nan'\n",
    "df1 = df.select_dtypes(include = \"object\")\n",
    "for col in df1.columns:\n",
    "    nan_count = (df1[col].apply(lambda x:x.strip().lower().find(\"nan\"))>=0).sum()\n",
    "    print(f\"{col} null count : {nan_count}\")"
   ]
  },
  {
   "cell_type": "code",
   "execution_count": 15,
   "id": "fc6cbe22",
   "metadata": {
    "scrolled": false
   },
   "outputs": [],
   "source": [
    "# replacing string nan with float nan \n",
    "for col in df1.columns:\n",
    "    df1[col] = df1[col].apply(lambda x:x.strip().lower())\n",
    "    df1[col].replace(\"nan\",np.nan,regex = True,inplace=True)"
   ]
  },
  {
   "cell_type": "code",
   "execution_count": 16,
   "id": "343d485a",
   "metadata": {},
   "outputs": [
    {
     "data": {
      "text/plain": [
       "Delivery_person_Ratings    1908\n",
       "Delivery_person_Age        1854\n",
       "Time_Orderd                1731\n",
       "City_area                  1200\n",
       "multiple_deliveries         993\n",
       "Weather_conditions          616\n",
       "Road_traffic_density        601\n",
       "Festival                    228\n",
       "Order_Date                    0\n",
       "Time_Order_picked             0\n",
       "Type_of_order                 0\n",
       "Type_of_vehicle               0\n",
       "City                          0\n",
       "dtype: int64"
      ]
     },
     "execution_count": 16,
     "metadata": {},
     "output_type": "execute_result"
    }
   ],
   "source": [
    "# again checking nulls \n",
    "df1.isnull().sum().sort_values(ascending=False)"
   ]
  },
  {
   "cell_type": "code",
   "execution_count": 17,
   "id": "50812994",
   "metadata": {
    "scrolled": true
   },
   "outputs": [
    {
     "data": {
      "text/html": [
       "<div>\n",
       "<style scoped>\n",
       "    .dataframe tbody tr th:only-of-type {\n",
       "        vertical-align: middle;\n",
       "    }\n",
       "\n",
       "    .dataframe tbody tr th {\n",
       "        vertical-align: top;\n",
       "    }\n",
       "\n",
       "    .dataframe thead th {\n",
       "        text-align: right;\n",
       "    }\n",
       "</style>\n",
       "<table border=\"1\" class=\"dataframe\">\n",
       "  <thead>\n",
       "    <tr style=\"text-align: right;\">\n",
       "      <th></th>\n",
       "      <th>Delivery_person_Age</th>\n",
       "      <th>Delivery_person_Ratings</th>\n",
       "      <th>Order_Date</th>\n",
       "      <th>Time_Orderd</th>\n",
       "      <th>Time_Order_picked</th>\n",
       "      <th>Weather_conditions</th>\n",
       "      <th>Road_traffic_density</th>\n",
       "      <th>Type_of_order</th>\n",
       "      <th>Type_of_vehicle</th>\n",
       "      <th>multiple_deliveries</th>\n",
       "      <th>Festival</th>\n",
       "      <th>City_area</th>\n",
       "      <th>City</th>\n",
       "      <th>Restaurant_latitude</th>\n",
       "      <th>Restaurant_longitude</th>\n",
       "      <th>Delivery_location_latitude</th>\n",
       "      <th>Delivery_location_longitude</th>\n",
       "      <th>Vehicle_condition</th>\n",
       "      <th>Time_taken</th>\n",
       "    </tr>\n",
       "  </thead>\n",
       "  <tbody>\n",
       "    <tr>\n",
       "      <th>0</th>\n",
       "      <td>37</td>\n",
       "      <td>4.9</td>\n",
       "      <td>19-03-2022</td>\n",
       "      <td>11:30:00</td>\n",
       "      <td>11:45:00</td>\n",
       "      <td>conditions sunny</td>\n",
       "      <td>high</td>\n",
       "      <td>snack</td>\n",
       "      <td>motorcycle</td>\n",
       "      <td>0</td>\n",
       "      <td>no</td>\n",
       "      <td>urban</td>\n",
       "      <td>indo</td>\n",
       "      <td>22.745049</td>\n",
       "      <td>75.892471</td>\n",
       "      <td>22.765049</td>\n",
       "      <td>75.912471</td>\n",
       "      <td>2</td>\n",
       "      <td>24</td>\n",
       "    </tr>\n",
       "    <tr>\n",
       "      <th>1</th>\n",
       "      <td>34</td>\n",
       "      <td>4.5</td>\n",
       "      <td>25-03-2022</td>\n",
       "      <td>19:45:00</td>\n",
       "      <td>19:50:00</td>\n",
       "      <td>conditions stormy</td>\n",
       "      <td>jam</td>\n",
       "      <td>snack</td>\n",
       "      <td>scooter</td>\n",
       "      <td>1</td>\n",
       "      <td>no</td>\n",
       "      <td>metropolitian</td>\n",
       "      <td>bang</td>\n",
       "      <td>12.913041</td>\n",
       "      <td>77.683237</td>\n",
       "      <td>13.043041</td>\n",
       "      <td>77.813237</td>\n",
       "      <td>2</td>\n",
       "      <td>33</td>\n",
       "    </tr>\n",
       "    <tr>\n",
       "      <th>2</th>\n",
       "      <td>23</td>\n",
       "      <td>4.4</td>\n",
       "      <td>19-03-2022</td>\n",
       "      <td>08:30:00</td>\n",
       "      <td>08:45:00</td>\n",
       "      <td>conditions sandstorms</td>\n",
       "      <td>low</td>\n",
       "      <td>drinks</td>\n",
       "      <td>motorcycle</td>\n",
       "      <td>1</td>\n",
       "      <td>no</td>\n",
       "      <td>urban</td>\n",
       "      <td>bang</td>\n",
       "      <td>12.914264</td>\n",
       "      <td>77.678400</td>\n",
       "      <td>12.924264</td>\n",
       "      <td>77.688400</td>\n",
       "      <td>0</td>\n",
       "      <td>26</td>\n",
       "    </tr>\n",
       "    <tr>\n",
       "      <th>3</th>\n",
       "      <td>38</td>\n",
       "      <td>4.7</td>\n",
       "      <td>05-04-2022</td>\n",
       "      <td>18:00:00</td>\n",
       "      <td>18:10:00</td>\n",
       "      <td>conditions sunny</td>\n",
       "      <td>medium</td>\n",
       "      <td>buffet</td>\n",
       "      <td>motorcycle</td>\n",
       "      <td>1</td>\n",
       "      <td>no</td>\n",
       "      <td>metropolitian</td>\n",
       "      <td>coimb</td>\n",
       "      <td>11.003669</td>\n",
       "      <td>76.976494</td>\n",
       "      <td>11.053669</td>\n",
       "      <td>77.026494</td>\n",
       "      <td>0</td>\n",
       "      <td>21</td>\n",
       "    </tr>\n",
       "    <tr>\n",
       "      <th>4</th>\n",
       "      <td>32</td>\n",
       "      <td>4.6</td>\n",
       "      <td>26-03-2022</td>\n",
       "      <td>13:30:00</td>\n",
       "      <td>13:45:00</td>\n",
       "      <td>conditions cloudy</td>\n",
       "      <td>high</td>\n",
       "      <td>snack</td>\n",
       "      <td>scooter</td>\n",
       "      <td>1</td>\n",
       "      <td>no</td>\n",
       "      <td>metropolitian</td>\n",
       "      <td>chen</td>\n",
       "      <td>12.972793</td>\n",
       "      <td>80.249982</td>\n",
       "      <td>13.012793</td>\n",
       "      <td>80.289982</td>\n",
       "      <td>1</td>\n",
       "      <td>30</td>\n",
       "    </tr>\n",
       "  </tbody>\n",
       "</table>\n",
       "</div>"
      ],
      "text/plain": [
       "  Delivery_person_Age Delivery_person_Ratings  Order_Date Time_Orderd  \\\n",
       "0                  37                     4.9  19-03-2022    11:30:00   \n",
       "1                  34                     4.5  25-03-2022    19:45:00   \n",
       "2                  23                     4.4  19-03-2022    08:30:00   \n",
       "3                  38                     4.7  05-04-2022    18:00:00   \n",
       "4                  32                     4.6  26-03-2022    13:30:00   \n",
       "\n",
       "  Time_Order_picked     Weather_conditions Road_traffic_density Type_of_order  \\\n",
       "0          11:45:00       conditions sunny                 high         snack   \n",
       "1          19:50:00      conditions stormy                  jam         snack   \n",
       "2          08:45:00  conditions sandstorms                  low        drinks   \n",
       "3          18:10:00       conditions sunny               medium        buffet   \n",
       "4          13:45:00      conditions cloudy                 high         snack   \n",
       "\n",
       "  Type_of_vehicle multiple_deliveries Festival      City_area   City  \\\n",
       "0      motorcycle                   0       no          urban   indo   \n",
       "1         scooter                   1       no  metropolitian   bang   \n",
       "2      motorcycle                   1       no          urban   bang   \n",
       "3      motorcycle                   1       no  metropolitian  coimb   \n",
       "4         scooter                   1       no  metropolitian   chen   \n",
       "\n",
       "   Restaurant_latitude  Restaurant_longitude  Delivery_location_latitude  \\\n",
       "0            22.745049             75.892471                   22.765049   \n",
       "1            12.913041             77.683237                   13.043041   \n",
       "2            12.914264             77.678400                   12.924264   \n",
       "3            11.003669             76.976494                   11.053669   \n",
       "4            12.972793             80.249982                   13.012793   \n",
       "\n",
       "   Delivery_location_longitude  Vehicle_condition  Time_taken  \n",
       "0                    75.912471                  2          24  \n",
       "1                    77.813237                  2          33  \n",
       "2                    77.688400                  0          26  \n",
       "3                    77.026494                  0          21  \n",
       "4                    80.289982                  1          30  "
      ]
     },
     "execution_count": 17,
     "metadata": {},
     "output_type": "execute_result"
    }
   ],
   "source": [
    "df2 = pd.concat([df1,df.select_dtypes(exclude=\"object\")],axis=1)\n",
    "df2.head()"
   ]
  },
  {
   "cell_type": "code",
   "execution_count": 18,
   "id": "f4b7be23",
   "metadata": {},
   "outputs": [],
   "source": [
    "# updating the datatype \n",
    "\n",
    "df2[\"Delivery_person_Age\"] = df2[\"Delivery_person_Age\"].astype(\"float\")\n",
    "df2[\"Delivery_person_Ratings\"] = df2[\"Delivery_person_Ratings\"].astype(\"float\")\n",
    "df2[\"Order_Date\"] = pd.to_datetime(df2[\"Order_Date\"])\n",
    "df2[\"multiple_deliveries\"] = df2[\"multiple_deliveries\"].astype(\"float\")"
   ]
  },
  {
   "cell_type": "code",
   "execution_count": 19,
   "id": "8aa18ea0",
   "metadata": {},
   "outputs": [
    {
     "name": "stdout",
     "output_type": "stream",
     "text": [
      "Weather_conditions\n",
      "conditions fog           7654\n",
      "conditions stormy        7586\n",
      "conditions cloudy        7536\n",
      "conditions sandstorms    7495\n",
      "conditions windy         7422\n",
      "conditions sunny         7284\n",
      "Name: Weather_conditions, dtype: int64\n",
      "\n",
      "Road_traffic_density\n",
      "low       15477\n",
      "jam       14143\n",
      "medium    10947\n",
      "high       4425\n",
      "Name: Road_traffic_density, dtype: int64\n",
      "\n",
      "Type_of_order\n",
      "snack     11533\n",
      "meal      11458\n",
      "drinks    11322\n",
      "buffet    11280\n",
      "Name: Type_of_order, dtype: int64\n",
      "\n",
      "Type_of_vehicle\n",
      "motorcycle          26435\n",
      "scooter             15276\n",
      "electric_scooter     3814\n",
      "bicycle                68\n",
      "Name: Type_of_vehicle, dtype: int64\n",
      "\n",
      "Festival\n",
      "no     44469\n",
      "yes      896\n",
      "Name: Festival, dtype: int64\n",
      "\n",
      "City_area\n",
      "metropolitian    34093\n",
      "urban            10136\n",
      "semi-urban         164\n",
      "Name: City_area, dtype: int64\n",
      "\n",
      "City\n",
      "jap       3443\n",
      "ranchi    3229\n",
      "bang      3195\n",
      "sur       3187\n",
      "hyd       3181\n",
      "mum       3173\n",
      "mys       3171\n",
      "coimb     3170\n",
      "vad       3166\n",
      "indo      3159\n",
      "chen      3145\n",
      "pune      3132\n",
      "agr        763\n",
      "ludh       758\n",
      "alh        740\n",
      "knp        740\n",
      "deh        737\n",
      "goa        709\n",
      "aurg       703\n",
      "koc        701\n",
      "kol        700\n",
      "bhp        691\n",
      "Name: City, dtype: int64\n",
      "\n"
     ]
    }
   ],
   "source": [
    "for col in df2.select_dtypes(include=\"object\").columns[2:]:\n",
    "    print(f\"{col}\\n{df2[col].value_counts()}\")\n",
    "    print()"
   ]
  },
  {
   "cell_type": "code",
   "execution_count": 20,
   "id": "f80b68dd",
   "metadata": {},
   "outputs": [],
   "source": [
    "# extracting only the weather type from column\n",
    "df2[\"Weather_conditions\"] = df2[\"Weather_conditions\"].str.split(\" \").str[-1]"
   ]
  },
  {
   "cell_type": "markdown",
   "id": "9879c6df",
   "metadata": {},
   "source": [
    "* <i> Target Variable </i>"
   ]
  },
  {
   "cell_type": "code",
   "execution_count": 21,
   "id": "39683669",
   "metadata": {
    "scrolled": false
   },
   "outputs": [
    {
     "data": {
      "image/png": "[encoded data removed]",
      "text/plain": [
       "<Figure size 720x360 with 2 Axes>"
      ]
     },
     "metadata": {
      "needs_background": "light"
     },
     "output_type": "display_data"
    }
   ],
   "source": [
    "fig,axes = plt.subplots(1,2,figsize=(10,5))\n",
    "numeric_df = df2.select_dtypes(exclude=\"object\")\n",
    "\n",
    "sns.kdeplot(numeric_df[\"Time_taken\"],ax = axes[0],fill = True,color=sns.color_palette(\"viridis\")[4])\n",
    "axes[0].set_title(\"KDE plot for Time Taken\")\n",
    "axes[0].set_xlabel(\"Time Taken\")\n",
    "axes[0].set_ylabel(\"Density\")\n",
    "\n",
    "sns.boxplot(numeric_df[\"Time_taken\"],ax = axes[1],palette=\"mako\")\n",
    "axes[1].set_title(\"Boxplot of Time Taken\")\n",
    "axes[1].set_xlabel(\"Time Taken\")\n",
    "\n",
    "plt.tight_layout()\n",
    "plt.show()"
   ]
  },
  {
   "cell_type": "markdown",
   "id": "b9c75322",
   "metadata": {},
   "source": [
    "* Time taken somewhat follows right skewed distribution but not much as we can see there are typically low outliers from the boxplot "
   ]
  },
  {
   "cell_type": "markdown",
   "id": "f4e527c0",
   "metadata": {},
   "source": [
    "* categoical column "
   ]
  },
  {
   "cell_type": "code",
   "execution_count": 22,
   "id": "a7ed01c1",
   "metadata": {},
   "outputs": [
    {
     "data": {
      "image/png": "[encoded data removed]",
      "text/plain": [
       "<Figure size 1080x576 with 6 Axes>"
      ]
     },
     "metadata": {
      "needs_background": "light"
     },
     "output_type": "display_data"
    }
   ],
   "source": [
    "cat_df = df2.select_dtypes(include=\"object\").iloc[:,2:-1]\n",
    "palettes = [\"rocket\",\"crest\",\"viridis\"] * (len(cat_df.columns)//3)\n",
    "\n",
    "fig,axes = plt.subplots(3,2,figsize=(15,8))\n",
    "axes = axes.flatten()\n",
    "for ax,column,palette in zip(axes,cat_df.columns,palettes):\n",
    "    sns.countplot(cat_df[column],ax = ax,palette = palette)\n",
    "    ax.set_title(f\"{column}\")\n",
    "plt.tight_layout()  \n",
    "plt.show()"
   ]
  },
  {
   "cell_type": "markdown",
   "id": "7c1de7ea",
   "metadata": {},
   "source": [
    "* Weather conditions follows a uniform distribution\n",
    "* Deliveries are predominantly made via motorcycle \n",
    "* road traffic density typically low,medium or jammed"
   ]
  },
  {
   "cell_type": "code",
   "execution_count": 23,
   "id": "772a28ec",
   "metadata": {},
   "outputs": [
    {
     "data": {
      "image/png": "[encoded data removed]",
      "text/plain": [
       "<Figure size 1080x576 with 6 Axes>"
      ]
     },
     "metadata": {
      "needs_background": "light"
     },
     "output_type": "display_data"
    }
   ],
   "source": [
    "cat_df = df2.select_dtypes(include=\"object\").iloc[:,2:-1]\n",
    "palettes = [\"Set1\",\"Set2\",\"Set3\"] * (len(cat_df.columns)//3)\n",
    "\n",
    "fig,axes = plt.subplots(3,2,figsize=(15,8))\n",
    "axes = axes.flatten()\n",
    "for ax,column,palette in zip(axes,cat_df.columns,palettes):\n",
    "    sns.barplot(x = cat_df[column],y = numeric_df[\"Time_taken\"],ax = ax,palette = palette)\n",
    "    ax.set_title(f\"{column}\")\n",
    "plt.tight_layout()  \n",
    "plt.show()"
   ]
  },
  {
   "cell_type": "markdown",
   "id": "d020bc2f",
   "metadata": {},
   "source": [
    "<b>Less Time Taken</b> :- <i> Low Traffic or Sunny day or Electric Scooter or No Festival or Urban Area </i>\n",
    "\n",
    "<b>More Time Taken</b> :- <i> Jammed Traffic or Fog day or Bicycle or Festival or Semi-urban Area </i>"
   ]
  },
  {
   "cell_type": "markdown",
   "id": "02c456c8",
   "metadata": {},
   "source": [
    "* Numeric one "
   ]
  },
  {
   "cell_type": "code",
   "execution_count": 24,
   "id": "860b33f3",
   "metadata": {},
   "outputs": [
    {
     "data": {
      "image/png": "[encoded data removed]",
      "text/plain": [
       "<Figure size 864x360 with 2 Axes>"
      ]
     },
     "metadata": {
      "needs_background": "light"
     },
     "output_type": "display_data"
    },
    {
     "data": {
      "image/png": "[encoded data removed]",
      "text/plain": [
       "<Figure size 864x360 with 2 Axes>"
      ]
     },
     "metadata": {
      "needs_background": "light"
     },
     "output_type": "display_data"
    }
   ],
   "source": [
    "import math\n",
    "num_cols = [\"Delivery_person_Age\",\"Delivery_person_Ratings\"]\n",
    "\n",
    "palettes = [\"rocket\",\"crest\"]\n",
    "fig,axes = plt.subplots(1,2,figsize=(12,5))\n",
    "\n",
    "axes = axes.flatten()\n",
    "\n",
    "for ax,palette,column in zip(axes,palettes,num_cols):\n",
    "    n_bins = int(math.sqrt(numeric_df[column].max())) * 4\n",
    "    ax.hist(numeric_df[column],color = sns.color_palette(palette)[5],edgecolor=\"white\",bins=n_bins)\n",
    "    ax.set_title(f\"{column}\")\n",
    "\n",
    "fig_1,axes_1 = plt.subplots(1,2,figsize=(12,5))\n",
    "\n",
    "for ax,palette,column in zip(axes_1,palettes,num_cols):\n",
    "    sns.boxplot(numeric_df[column],ax = ax,palette = palette)\n",
    "    ax.set_title(f\"{column}\")\n",
    "\n",
    "plt.show()"
   ]
  },
  {
   "cell_type": "markdown",
   "id": "380de842",
   "metadata": {},
   "source": [
    "* Delivery person age are in a range of 20 to 40 \n",
    "* Quite a huge frequency between 4 to 5 (deliery person ratings) need to check for rating 6 "
   ]
  },
  {
   "cell_type": "code",
   "execution_count": 25,
   "id": "e04a358f",
   "metadata": {
    "scrolled": true
   },
   "outputs": [
    {
     "data": {
      "image/png": "[encoded data removed]",
      "text/plain": [
       "<Figure size 864x360 with 2 Axes>"
      ]
     },
     "metadata": {
      "needs_background": "light"
     },
     "output_type": "display_data"
    }
   ],
   "source": [
    "plt.figure(figsize=(12,5))\n",
    "\n",
    "plt.subplot(1,2,1)\n",
    "numeric_df[\"multiple_deliveries\"].value_counts().plot(kind=\"bar\",color=sns.color_palette(\"rocket\"))\n",
    "\n",
    "plt.subplot(1,2,2)\n",
    "numeric_df.groupby(\"multiple_deliveries\")[\"Time_taken\"].mean().plot(kind=\"bar\",color=sns.color_palette(\"Set1\"))\n",
    "plt.ylabel(\"Avg Time Taken\")\n",
    "plt.show()"
   ]
  },
  {
   "cell_type": "code",
   "execution_count": 26,
   "id": "1a95fc8d",
   "metadata": {},
   "outputs": [
    {
     "data": {
      "image/png": "[encoded data removed]",
      "text/plain": [
       "<Figure size 864x360 with 2 Axes>"
      ]
     },
     "metadata": {
      "needs_background": "light"
     },
     "output_type": "display_data"
    }
   ],
   "source": [
    "plt.figure(figsize=(12,5))\n",
    "\n",
    "plt.subplot(1,2,1)\n",
    "numeric_df[\"Vehicle_condition\"].value_counts().plot(kind=\"bar\",color=sns.color_palette(\"crest\"))\n",
    "\n",
    "plt.subplot(1,2,2)\n",
    "numeric_df.groupby(\"Vehicle_condition\")[\"Time_taken\"].mean().plot(kind=\"bar\",color=sns.color_palette(\"Set2\"))\n",
    "plt.ylabel(\"Avg Time Taken\")\n",
    "plt.show()"
   ]
  },
  {
   "cell_type": "markdown",
   "id": "47cc817a",
   "metadata": {},
   "source": [
    "* Number of orders from each city with diff. location "
   ]
  },
  {
   "cell_type": "code",
   "execution_count": 27,
   "id": "9271e213",
   "metadata": {},
   "outputs": [
    {
     "data": {
      "text/html": [
       "<div>\n",
       "<style scoped>\n",
       "    .dataframe tbody tr th:only-of-type {\n",
       "        vertical-align: middle;\n",
       "    }\n",
       "\n",
       "    .dataframe tbody tr th {\n",
       "        vertical-align: top;\n",
       "    }\n",
       "\n",
       "    .dataframe thead th {\n",
       "        text-align: right;\n",
       "    }\n",
       "</style>\n",
       "<table border=\"1\" class=\"dataframe\">\n",
       "  <thead>\n",
       "    <tr style=\"text-align: right;\">\n",
       "      <th></th>\n",
       "      <th></th>\n",
       "      <th></th>\n",
       "      <th>0</th>\n",
       "    </tr>\n",
       "    <tr>\n",
       "      <th>City</th>\n",
       "      <th>Restaurant_latitude</th>\n",
       "      <th>Restaurant_longitude</th>\n",
       "      <th></th>\n",
       "    </tr>\n",
       "  </thead>\n",
       "  <tbody>\n",
       "    <tr>\n",
       "      <th>vad</th>\n",
       "      <th>0.000000</th>\n",
       "      <th>0.000000</th>\n",
       "      <td>1590</td>\n",
       "    </tr>\n",
       "    <tr>\n",
       "      <th>ranchi</th>\n",
       "      <th>0.000000</th>\n",
       "      <th>0.000000</th>\n",
       "      <td>665</td>\n",
       "    </tr>\n",
       "    <tr>\n",
       "      <th>deh</th>\n",
       "      <th>0.000000</th>\n",
       "      <th>0.000000</th>\n",
       "      <td>245</td>\n",
       "    </tr>\n",
       "    <tr>\n",
       "      <th>agr</th>\n",
       "      <th>0.000000</th>\n",
       "      <th>0.000000</th>\n",
       "      <td>213</td>\n",
       "    </tr>\n",
       "    <tr>\n",
       "      <th>bhp</th>\n",
       "      <th>0.000000</th>\n",
       "      <th>0.000000</th>\n",
       "      <td>213</td>\n",
       "    </tr>\n",
       "    <tr>\n",
       "      <th rowspan=\"5\" valign=\"top\">jap</th>\n",
       "      <th>26.911378</th>\n",
       "      <th>75.789034</th>\n",
       "      <td>182</td>\n",
       "    </tr>\n",
       "    <tr>\n",
       "      <th>26.914142</th>\n",
       "      <th>75.805704</th>\n",
       "      <td>180</td>\n",
       "    </tr>\n",
       "    <tr>\n",
       "      <th>26.902940</th>\n",
       "      <th>75.793007</th>\n",
       "      <td>176</td>\n",
       "    </tr>\n",
       "    <tr>\n",
       "      <th>26.902908</th>\n",
       "      <th>75.792934</th>\n",
       "      <td>176</td>\n",
       "    </tr>\n",
       "    <tr>\n",
       "      <th>26.892312</th>\n",
       "      <th>75.806896</th>\n",
       "      <td>176</td>\n",
       "    </tr>\n",
       "  </tbody>\n",
       "</table>\n",
       "</div>"
      ],
      "text/plain": [
       "                                                    0\n",
       "City   Restaurant_latitude Restaurant_longitude      \n",
       "vad    0.000000            0.000000              1590\n",
       "ranchi 0.000000            0.000000               665\n",
       "deh    0.000000            0.000000               245\n",
       "agr    0.000000            0.000000               213\n",
       "bhp    0.000000            0.000000               213\n",
       "jap    26.911378           75.789034              182\n",
       "       26.914142           75.805704              180\n",
       "       26.902940           75.793007              176\n",
       "       26.902908           75.792934              176\n",
       "       26.892312           75.806896              176"
      ]
     },
     "execution_count": 27,
     "metadata": {},
     "output_type": "execute_result"
    }
   ],
   "source": [
    "df2[[\"City\",\"Restaurant_latitude\",\"Restaurant_longitude\"]].value_counts().to_frame()[:10]"
   ]
  },
  {
   "cell_type": "markdown",
   "id": "f8f298c7",
   "metadata": {},
   "source": [
    "* The coordinates (0, 0) are not valid locations for restaurants within India."
   ]
  },
  {
   "cell_type": "code",
   "execution_count": 28,
   "id": "8ebf5d8f",
   "metadata": {},
   "outputs": [
    {
     "name": "stdout",
     "output_type": "stream",
     "text": [
      "3640\n",
      "3640\n"
     ]
    }
   ],
   "source": [
    "print(sum(df2[\"Restaurant_latitude\"]==0.0))\n",
    "print(sum(df2[\"Restaurant_longitude\"]==0.0))"
   ]
  },
  {
   "cell_type": "code",
   "execution_count": 29,
   "id": "38dab178",
   "metadata": {
    "scrolled": true
   },
   "outputs": [
    {
     "name": "stdout",
     "output_type": "stream",
     "text": [
      "41522\n",
      "41791\n"
     ]
    }
   ],
   "source": [
    "#check the coordinates within india \n",
    "print(len(df2[(df2[\"Restaurant_latitude\"]>=8) & (df2[\"Restaurant_latitude\"]<=37)]))\n",
    "print(len(df2[(df2[\"Restaurant_longitude\"]>=68) & (df2[\"Restaurant_longitude\"]<=97)]))"
   ]
  },
  {
   "cell_type": "markdown",
   "id": "3127250c",
   "metadata": {},
   "source": [
    "* We can drop coordinates those showing (0,0)"
   ]
  },
  {
   "cell_type": "code",
   "execution_count": 30,
   "id": "ec5878ab",
   "metadata": {},
   "outputs": [],
   "source": [
    "df3 = df2[-((df2[\"Restaurant_latitude\"]==0.0) & (df2[\"Restaurant_longitude\"]==0.0)) ]"
   ]
  },
  {
   "cell_type": "code",
   "execution_count": 31,
   "id": "304b3705",
   "metadata": {},
   "outputs": [
    {
     "data": {
      "text/plain": [
       "(41953, 19)"
      ]
     },
     "execution_count": 31,
     "metadata": {},
     "output_type": "execute_result"
    }
   ],
   "source": [
    "df3.shape "
   ]
  },
  {
   "cell_type": "code",
   "execution_count": 32,
   "id": "a8bb1faa",
   "metadata": {},
   "outputs": [],
   "source": [
    "restaurant_df = df3.groupby([\"City\",\"Restaurant_latitude\",\"Restaurant_longitude\"]).size().reset_index(name = \"num_orders\")"
   ]
  },
  {
   "cell_type": "code",
   "execution_count": 33,
   "id": "b8fc9509",
   "metadata": {
    "scrolled": true
   },
   "outputs": [
    {
     "data": {
      "text/html": [
       "<div>\n",
       "<style scoped>\n",
       "    .dataframe tbody tr th:only-of-type {\n",
       "        vertical-align: middle;\n",
       "    }\n",
       "\n",
       "    .dataframe tbody tr th {\n",
       "        vertical-align: top;\n",
       "    }\n",
       "\n",
       "    .dataframe thead th {\n",
       "        text-align: right;\n",
       "    }\n",
       "</style>\n",
       "<table border=\"1\" class=\"dataframe\">\n",
       "  <thead>\n",
       "    <tr style=\"text-align: right;\">\n",
       "      <th></th>\n",
       "      <th>City</th>\n",
       "      <th>Restaurant_latitude</th>\n",
       "      <th>Restaurant_longitude</th>\n",
       "      <th>num_orders</th>\n",
       "    </tr>\n",
       "  </thead>\n",
       "  <tbody>\n",
       "    <tr>\n",
       "      <th>368</th>\n",
       "      <td>jap</td>\n",
       "      <td>26.911378</td>\n",
       "      <td>75.789034</td>\n",
       "      <td>182</td>\n",
       "    </tr>\n",
       "    <tr>\n",
       "      <th>694</th>\n",
       "      <td>vad</td>\n",
       "      <td>22.308096</td>\n",
       "      <td>73.167753</td>\n",
       "      <td>172</td>\n",
       "    </tr>\n",
       "    <tr>\n",
       "      <th>293</th>\n",
       "      <td>hyd</td>\n",
       "      <td>17.430448</td>\n",
       "      <td>78.418213</td>\n",
       "      <td>170</td>\n",
       "    </tr>\n",
       "    <tr>\n",
       "      <th>116</th>\n",
       "      <td>bang</td>\n",
       "      <td>12.979166</td>\n",
       "      <td>77.640709</td>\n",
       "      <td>170</td>\n",
       "    </tr>\n",
       "    <tr>\n",
       "      <th>576</th>\n",
       "      <td>mys</td>\n",
       "      <td>12.323978</td>\n",
       "      <td>76.627961</td>\n",
       "      <td>170</td>\n",
       "    </tr>\n",
       "    <tr>\n",
       "      <th>642</th>\n",
       "      <td>ranchi</td>\n",
       "      <td>23.371292</td>\n",
       "      <td>85.327872</td>\n",
       "      <td>169</td>\n",
       "    </tr>\n",
       "    <tr>\n",
       "      <th>176</th>\n",
       "      <td>chen</td>\n",
       "      <td>13.058616</td>\n",
       "      <td>80.264151</td>\n",
       "      <td>168</td>\n",
       "    </tr>\n",
       "    <tr>\n",
       "      <th>212</th>\n",
       "      <td>coimb</td>\n",
       "      <td>11.025083</td>\n",
       "      <td>77.015393</td>\n",
       "      <td>168</td>\n",
       "    </tr>\n",
       "    <tr>\n",
       "      <th>323</th>\n",
       "      <td>indo</td>\n",
       "      <td>22.725748</td>\n",
       "      <td>75.898497</td>\n",
       "      <td>168</td>\n",
       "    </tr>\n",
       "    <tr>\n",
       "      <th>673</th>\n",
       "      <td>sur</td>\n",
       "      <td>21.171060</td>\n",
       "      <td>72.789292</td>\n",
       "      <td>167</td>\n",
       "    </tr>\n",
       "  </tbody>\n",
       "</table>\n",
       "</div>"
      ],
      "text/plain": [
       "       City  Restaurant_latitude  Restaurant_longitude  num_orders\n",
       "368     jap            26.911378             75.789034         182\n",
       "694     vad            22.308096             73.167753         172\n",
       "293     hyd            17.430448             78.418213         170\n",
       "116    bang            12.979166             77.640709         170\n",
       "576     mys            12.323978             76.627961         170\n",
       "642  ranchi            23.371292             85.327872         169\n",
       "176    chen            13.058616             80.264151         168\n",
       "212   coimb            11.025083             77.015393         168\n",
       "323    indo            22.725748             75.898497         168\n",
       "673     sur            21.171060             72.789292         167"
      ]
     },
     "execution_count": 33,
     "metadata": {},
     "output_type": "execute_result"
    }
   ],
   "source": [
    "# max orders with each city and the restaurant coordinates \n",
    "top_restaurant = restaurant_df.loc[restaurant_df.groupby(\"City\")[\"num_orders\"].idxmax()]\n",
    "top_restaurant.sort_values(by=\"num_orders\",ascending=False)[:10]"
   ]
  },
  {
   "cell_type": "markdown",
   "id": "5885d515",
   "metadata": {},
   "source": [
    "* Order_Date "
   ]
  },
  {
   "cell_type": "code",
   "execution_count": 34,
   "id": "bd5aadd8",
   "metadata": {
    "scrolled": true
   },
   "outputs": [
    {
     "name": "stdout",
     "output_type": "stream",
     "text": [
      " year 1\n",
      " month 12\n",
      " days 21\n"
     ]
    }
   ],
   "source": [
    "print(f' year {df3[\"Order_Date\"].dt.year.nunique()}')\n",
    "print(f' month {df3[\"Order_Date\"].dt.month.nunique()}')\n",
    "print(f' days {df3[\"Order_Date\"].dt.day.nunique()}')"
   ]
  },
  {
   "cell_type": "code",
   "execution_count": 35,
   "id": "4f2b02fa",
   "metadata": {},
   "outputs": [],
   "source": [
    "df3[\"month\"] = df3[\"Order_Date\"].dt.month\n",
    "df3[\"day\"] = df3[\"Order_Date\"].dt.day"
   ]
  },
  {
   "cell_type": "code",
   "execution_count": 36,
   "id": "4736e415",
   "metadata": {},
   "outputs": [
    {
     "data": {
      "image/png": "[encoded data removed]",
      "text/plain": [
       "<Figure size 864x360 with 2 Axes>"
      ]
     },
     "metadata": {
      "needs_background": "light"
     },
     "output_type": "display_data"
    }
   ],
   "source": [
    "fig,axes = plt.subplots(1,2,figsize=(12,5))\n",
    "\n",
    "df3[\"month\"].value_counts().plot(kind=\"bar\",color=sns.color_palette(\"crest\"),ax = axes[0])\n",
    "\n",
    "df3[\"day\"].value_counts().plot(kind=\"bar\",color=sns.color_palette(\"flare\"),ax = axes[1])\n",
    "\n",
    "plt.show()"
   ]
  },
  {
   "cell_type": "markdown",
   "id": "dffbd6b6",
   "metadata": {},
   "source": [
    "* Majority of orders came form 3rd month of year \n",
    "* Also we can see that 3rd day of every month represent high number of orders "
   ]
  },
  {
   "cell_type": "markdown",
   "id": "6247a1c8",
   "metadata": {},
   "source": [
    "### 3. Missing Values Treatment "
   ]
  },
  {
   "cell_type": "code",
   "execution_count": 37,
   "id": "9b8ba9fd",
   "metadata": {},
   "outputs": [
    {
     "data": {
      "text/plain": [
       "Delivery_person_Ratings        1763\n",
       "Delivery_person_Age            1719\n",
       "Time_Orderd                    1600\n",
       "City_area                      1114\n",
       "multiple_deliveries             905\n",
       "Weather_conditions              569\n",
       "Road_traffic_density            555\n",
       "Festival                        215\n",
       "Type_of_vehicle                   0\n",
       "Type_of_order                     0\n",
       "Time_Order_picked                 0\n",
       "Order_Date                        0\n",
       "City                              0\n",
       "Restaurant_latitude               0\n",
       "Restaurant_longitude              0\n",
       "Delivery_location_latitude        0\n",
       "Delivery_location_longitude       0\n",
       "Vehicle_condition                 0\n",
       "Time_taken                        0\n",
       "month                             0\n",
       "day                               0\n",
       "dtype: int64"
      ]
     },
     "execution_count": 37,
     "metadata": {},
     "output_type": "execute_result"
    }
   ],
   "source": [
    "# lets check again for missing values \n",
    "\n",
    "df3.isnull().sum().sort_values(ascending=False)"
   ]
  },
  {
   "cell_type": "markdown",
   "id": "fc9dd4e6",
   "metadata": {},
   "source": [
    "* Delivery Person Age \n",
    "* By seeing the distribution it looks like it is a uniform distribution"
   ]
  },
  {
   "cell_type": "code",
   "execution_count": 38,
   "id": "336f07ae",
   "metadata": {
    "scrolled": true
   },
   "outputs": [
    {
     "data": {
      "text/plain": [
       "array([44, 41, 27, ..., 30, 32, 33])"
      ]
     },
     "execution_count": 38,
     "metadata": {},
     "output_type": "execute_result"
    }
   ],
   "source": [
    "null_count = df3[\"Delivery_person_Age\"].isnull().sum()\n",
    "min_value = df3[\"Delivery_person_Age\"].min()\n",
    "max_value = df3[\"Delivery_person_Age\"].max()\n",
    "uniform_age_ary = np.random.randint(min_value,max_value,null_count)\n",
    "uniform_age_ary"
   ]
  },
  {
   "cell_type": "code",
   "execution_count": 39,
   "id": "af9cdf80",
   "metadata": {},
   "outputs": [],
   "source": [
    "# for checking \n",
    "age_b_df = df3.copy()"
   ]
  },
  {
   "cell_type": "code",
   "execution_count": 40,
   "id": "fb3691dc",
   "metadata": {},
   "outputs": [],
   "source": [
    "null_indices = df3[df3[\"Delivery_person_Age\"].isnull()].index"
   ]
  },
  {
   "cell_type": "code",
   "execution_count": 41,
   "id": "485e30e5",
   "metadata": {},
   "outputs": [],
   "source": [
    "df3.loc[null_indices,\"Delivery_person_Age\"] = uniform_age_ary"
   ]
  },
  {
   "cell_type": "code",
   "execution_count": 42,
   "id": "a3159cc8",
   "metadata": {
    "scrolled": true
   },
   "outputs": [
    {
     "data": {
      "image/png": "[encoded data removed]",
      "text/plain": [
       "<Figure size 864x360 with 2 Axes>"
      ]
     },
     "metadata": {
      "needs_background": "light"
     },
     "output_type": "display_data"
    }
   ],
   "source": [
    "plt.figure(figsize=(12,5))\n",
    "\n",
    "plt.subplot(1,2,1)\n",
    "df3[\"Delivery_person_Age\"].plot(kind=\"hist\",color=sns.color_palette(\"flare\"),edgecolor=\"white\")\n",
    "plt.xlabel(\"Delivery person age after imputation\")\n",
    "\n",
    "plt.subplot(1,2,2)\n",
    "age_b_df[\"Delivery_person_Age\"].plot(kind=\"hist\",color=sns.color_palette(\"crest\"),edgecolor=\"white\")\n",
    "plt.xlabel(\"Delivery person age before imputation\")\n",
    "\n",
    "plt.show()"
   ]
  },
  {
   "cell_type": "markdown",
   "id": "153d999c",
   "metadata": {},
   "source": [
    "* Delivery person ratings "
   ]
  },
  {
   "cell_type": "code",
   "execution_count": 43,
   "id": "dece525c",
   "metadata": {},
   "outputs": [
    {
     "data": {
      "text/plain": [
       "count    40190.000000\n",
       "mean         4.632386\n",
       "std          0.335541\n",
       "min          1.000000\n",
       "25%          4.500000\n",
       "50%          4.700000\n",
       "75%          4.900000\n",
       "max          6.000000\n",
       "Name: Delivery_person_Ratings, dtype: float64"
      ]
     },
     "execution_count": 43,
     "metadata": {},
     "output_type": "execute_result"
    }
   ],
   "source": [
    "df3[\"Delivery_person_Ratings\"].describe()"
   ]
  },
  {
   "cell_type": "code",
   "execution_count": 44,
   "id": "8f1bbf0a",
   "metadata": {},
   "outputs": [
    {
     "data": {
      "text/html": [
       "<div>\n",
       "<style scoped>\n",
       "    .dataframe tbody tr th:only-of-type {\n",
       "        vertical-align: middle;\n",
       "    }\n",
       "\n",
       "    .dataframe tbody tr th {\n",
       "        vertical-align: top;\n",
       "    }\n",
       "\n",
       "    .dataframe thead th {\n",
       "        text-align: right;\n",
       "    }\n",
       "</style>\n",
       "<table border=\"1\" class=\"dataframe\">\n",
       "  <thead>\n",
       "    <tr style=\"text-align: right;\">\n",
       "      <th></th>\n",
       "      <th>Delivery_person_Age</th>\n",
       "      <th>Delivery_person_Ratings</th>\n",
       "      <th>Order_Date</th>\n",
       "      <th>Time_Orderd</th>\n",
       "      <th>Time_Order_picked</th>\n",
       "      <th>Weather_conditions</th>\n",
       "      <th>Road_traffic_density</th>\n",
       "      <th>Type_of_order</th>\n",
       "      <th>Type_of_vehicle</th>\n",
       "      <th>multiple_deliveries</th>\n",
       "      <th>...</th>\n",
       "      <th>City_area</th>\n",
       "      <th>City</th>\n",
       "      <th>Restaurant_latitude</th>\n",
       "      <th>Restaurant_longitude</th>\n",
       "      <th>Delivery_location_latitude</th>\n",
       "      <th>Delivery_location_longitude</th>\n",
       "      <th>Vehicle_condition</th>\n",
       "      <th>Time_taken</th>\n",
       "      <th>month</th>\n",
       "      <th>day</th>\n",
       "    </tr>\n",
       "  </thead>\n",
       "  <tbody>\n",
       "    <tr>\n",
       "      <th>28974</th>\n",
       "      <td>50.0</td>\n",
       "      <td>6.0</td>\n",
       "      <td>2022-03-18</td>\n",
       "      <td>NaN</td>\n",
       "      <td>23:55:00</td>\n",
       "      <td>NaN</td>\n",
       "      <td>NaN</td>\n",
       "      <td>meal</td>\n",
       "      <td>electric_scooter</td>\n",
       "      <td>0.0</td>\n",
       "      <td>...</td>\n",
       "      <td>metropolitian</td>\n",
       "      <td>chen</td>\n",
       "      <td>-13.029780</td>\n",
       "      <td>-80.208812</td>\n",
       "      <td>13.099780</td>\n",
       "      <td>80.278812</td>\n",
       "      <td>3</td>\n",
       "      <td>20</td>\n",
       "      <td>3</td>\n",
       "      <td>18</td>\n",
       "    </tr>\n",
       "    <tr>\n",
       "      <th>38020</th>\n",
       "      <td>50.0</td>\n",
       "      <td>6.0</td>\n",
       "      <td>2022-03-20</td>\n",
       "      <td>NaN</td>\n",
       "      <td>23:10:00</td>\n",
       "      <td>NaN</td>\n",
       "      <td>NaN</td>\n",
       "      <td>meal</td>\n",
       "      <td>scooter</td>\n",
       "      <td>0.0</td>\n",
       "      <td>...</td>\n",
       "      <td>metropolitian</td>\n",
       "      <td>chen</td>\n",
       "      <td>13.026279</td>\n",
       "      <td>80.174568</td>\n",
       "      <td>13.106279</td>\n",
       "      <td>80.254568</td>\n",
       "      <td>3</td>\n",
       "      <td>14</td>\n",
       "      <td>3</td>\n",
       "      <td>20</td>\n",
       "    </tr>\n",
       "    <tr>\n",
       "      <th>42072</th>\n",
       "      <td>50.0</td>\n",
       "      <td>6.0</td>\n",
       "      <td>2022-03-17</td>\n",
       "      <td>NaN</td>\n",
       "      <td>20:40:00</td>\n",
       "      <td>NaN</td>\n",
       "      <td>NaN</td>\n",
       "      <td>buffet</td>\n",
       "      <td>scooter</td>\n",
       "      <td>0.0</td>\n",
       "      <td>...</td>\n",
       "      <td>metropolitian</td>\n",
       "      <td>indo</td>\n",
       "      <td>22.751234</td>\n",
       "      <td>75.889490</td>\n",
       "      <td>22.781234</td>\n",
       "      <td>75.919490</td>\n",
       "      <td>3</td>\n",
       "      <td>28</td>\n",
       "      <td>3</td>\n",
       "      <td>17</td>\n",
       "    </tr>\n",
       "    <tr>\n",
       "      <th>18977</th>\n",
       "      <td>50.0</td>\n",
       "      <td>6.0</td>\n",
       "      <td>2022-02-18</td>\n",
       "      <td>NaN</td>\n",
       "      <td>21:25:00</td>\n",
       "      <td>NaN</td>\n",
       "      <td>NaN</td>\n",
       "      <td>buffet</td>\n",
       "      <td>scooter</td>\n",
       "      <td>1.0</td>\n",
       "      <td>...</td>\n",
       "      <td>metropolitian</td>\n",
       "      <td>bhp</td>\n",
       "      <td>23.232537</td>\n",
       "      <td>77.429845</td>\n",
       "      <td>23.322537</td>\n",
       "      <td>77.519845</td>\n",
       "      <td>3</td>\n",
       "      <td>17</td>\n",
       "      <td>2</td>\n",
       "      <td>18</td>\n",
       "    </tr>\n",
       "  </tbody>\n",
       "</table>\n",
       "<p>4 rows × 21 columns</p>\n",
       "</div>"
      ],
      "text/plain": [
       "       Delivery_person_Age  Delivery_person_Ratings Order_Date Time_Orderd  \\\n",
       "28974                 50.0                      6.0 2022-03-18         NaN   \n",
       "38020                 50.0                      6.0 2022-03-20         NaN   \n",
       "42072                 50.0                      6.0 2022-03-17         NaN   \n",
       "18977                 50.0                      6.0 2022-02-18         NaN   \n",
       "\n",
       "      Time_Order_picked Weather_conditions Road_traffic_density Type_of_order  \\\n",
       "28974          23:55:00                NaN                  NaN          meal   \n",
       "38020          23:10:00                NaN                  NaN          meal   \n",
       "42072          20:40:00                NaN                  NaN        buffet   \n",
       "18977          21:25:00                NaN                  NaN        buffet   \n",
       "\n",
       "        Type_of_vehicle  multiple_deliveries  ...      City_area  City  \\\n",
       "28974  electric_scooter                  0.0  ...  metropolitian  chen   \n",
       "38020           scooter                  0.0  ...  metropolitian  chen   \n",
       "42072           scooter                  0.0  ...  metropolitian  indo   \n",
       "18977           scooter                  1.0  ...  metropolitian   bhp   \n",
       "\n",
       "      Restaurant_latitude  Restaurant_longitude  Delivery_location_latitude  \\\n",
       "28974          -13.029780            -80.208812                   13.099780   \n",
       "38020           13.026279             80.174568                   13.106279   \n",
       "42072           22.751234             75.889490                   22.781234   \n",
       "18977           23.232537             77.429845                   23.322537   \n",
       "\n",
       "       Delivery_location_longitude  Vehicle_condition  Time_taken  month  day  \n",
       "28974                    80.278812                  3          20      3   18  \n",
       "38020                    80.254568                  3          14      3   20  \n",
       "42072                    75.919490                  3          28      3   17  \n",
       "18977                    77.519845                  3          17      2   18  \n",
       "\n",
       "[4 rows x 21 columns]"
      ]
     },
     "execution_count": 44,
     "metadata": {},
     "output_type": "execute_result"
    }
   ],
   "source": [
    "df3[df3[\"Delivery_person_Ratings\"]>5].sample(4)"
   ]
  },
  {
   "cell_type": "code",
   "execution_count": 45,
   "id": "c2affc1e",
   "metadata": {},
   "outputs": [
    {
     "name": "stdout",
     "output_type": "stream",
     "text": [
      "46\n"
     ]
    }
   ],
   "source": [
    "print((df3[\"Delivery_person_Ratings\"]>5).sum())"
   ]
  },
  {
   "cell_type": "markdown",
   "id": "9ebe26a8",
   "metadata": {},
   "source": [
    "* I assume that ratings feature have rating between 1 to 5\n",
    "* We can considered as a missing values and we can impute with median value based on distribution "
   ]
  },
  {
   "cell_type": "code",
   "execution_count": 46,
   "id": "914e75ee",
   "metadata": {},
   "outputs": [],
   "source": [
    "# for checking \n",
    "rating_b_df = df3.copy()"
   ]
  },
  {
   "cell_type": "code",
   "execution_count": 47,
   "id": "c27e9556",
   "metadata": {},
   "outputs": [],
   "source": [
    "df3[\"Delivery_person_Ratings\"].fillna(df3[\"Delivery_person_Ratings\"].median(),inplace=True)"
   ]
  },
  {
   "cell_type": "code",
   "execution_count": 48,
   "id": "17d23d96",
   "metadata": {},
   "outputs": [],
   "source": [
    "rating_indices = df3[df3[\"Delivery_person_Ratings\"]==6].index\n",
    "df3.loc[rating_indices,\"Delivery_person_Ratings\"] = df3[\"Delivery_person_Ratings\"].median()"
   ]
  },
  {
   "cell_type": "code",
   "execution_count": 49,
   "id": "74abec5d",
   "metadata": {},
   "outputs": [
    {
     "name": "stdout",
     "output_type": "stream",
     "text": [
      "Before\n",
      "count    40190.000000\n",
      "mean         4.632386\n",
      "std          0.335541\n",
      "min          1.000000\n",
      "25%          4.500000\n",
      "50%          4.700000\n",
      "75%          4.900000\n",
      "max          6.000000\n",
      "Name: Delivery_person_Ratings, dtype: float64\n",
      "------------------------------\n",
      "After\n",
      "count    41953.000000\n",
      "mean         4.633802\n",
      "std          0.325577\n",
      "min          1.000000\n",
      "25%          4.500000\n",
      "50%          4.700000\n",
      "75%          4.800000\n",
      "max          5.000000\n",
      "Name: Delivery_person_Ratings, dtype: float64\n"
     ]
    }
   ],
   "source": [
    "print(\"Before\")\n",
    "print(rating_b_df[\"Delivery_person_Ratings\"].describe())\n",
    "print(\"------------------------------\")\n",
    "print(\"After\")\n",
    "print(df3[\"Delivery_person_Ratings\"].describe())"
   ]
  },
  {
   "cell_type": "markdown",
   "id": "d63c58da",
   "metadata": {},
   "source": [
    "* Imputing in categorical columns "
   ]
  },
  {
   "cell_type": "code",
   "execution_count": 50,
   "id": "85a04a63",
   "metadata": {},
   "outputs": [],
   "source": [
    "cols = [\"multiple_deliveries\",\"Road_traffic_density\",\"City_area\",\"Festival\"]\n",
    "for col in cols:\n",
    "    df3[col].fillna(df3[col].mode()[0],inplace=True)    "
   ]
  },
  {
   "cell_type": "code",
   "execution_count": 51,
   "id": "2a22bb5e",
   "metadata": {},
   "outputs": [],
   "source": [
    "w_types = df3[\"Weather_conditions\"].unique()[:-1]"
   ]
  },
  {
   "cell_type": "code",
   "execution_count": 52,
   "id": "20e141d5",
   "metadata": {},
   "outputs": [],
   "source": [
    "null_count_for_w = df3[\"Weather_conditions\"].isnull().sum()"
   ]
  },
  {
   "cell_type": "code",
   "execution_count": 53,
   "id": "36a3bb63",
   "metadata": {},
   "outputs": [],
   "source": [
    "w_missing_list = []\n",
    "for w_type in w_types:\n",
    "    l = []\n",
    "    for i in range(null_count_for_w//len(w_types)):\n",
    "        l.append(w_type)\n",
    "    w_missing_list.extend(l)"
   ]
  },
  {
   "cell_type": "code",
   "execution_count": 54,
   "id": "ba90c0a2",
   "metadata": {},
   "outputs": [],
   "source": [
    "temp_df = df3[-(df3[\"Weather_conditions\"].isnull())]\n",
    "w_missing_list.extend(temp_df[\"Weather_conditions\"].sample(null_count_for_w-len(w_missing_list)).values)"
   ]
  },
  {
   "cell_type": "code",
   "execution_count": 55,
   "id": "5314909f",
   "metadata": {},
   "outputs": [],
   "source": [
    "w_indices = df3[df3[\"Weather_conditions\"].isnull()].index\n",
    "df3.loc[w_indices,\"Weather_conditions\"] = w_missing_list"
   ]
  },
  {
   "cell_type": "code",
   "execution_count": 56,
   "id": "bc67525c",
   "metadata": {
    "scrolled": true
   },
   "outputs": [
    {
     "data": {
      "text/plain": [
       "fog           7108\n",
       "stormy        7068\n",
       "cloudy        7026\n",
       "sandstorms    7001\n",
       "windy         6927\n",
       "sunny         6823\n",
       "Name: Weather_conditions, dtype: int64"
      ]
     },
     "execution_count": 56,
     "metadata": {},
     "output_type": "execute_result"
    }
   ],
   "source": [
    "df3[\"Weather_conditions\"].value_counts()"
   ]
  },
  {
   "cell_type": "markdown",
   "id": "e2dc7d0e",
   "metadata": {},
   "source": [
    "### 4. Feature Engineering "
   ]
  },
  {
   "cell_type": "code",
   "execution_count": 57,
   "id": "6747fd7c",
   "metadata": {},
   "outputs": [],
   "source": [
    "# adding is_weekend col and dayofweek\n",
    "df3[\"day_of_week\"] = df3[\"Order_Date\"].dt.dayofweek # monday = 0 and sunday = 6\n",
    "df3[\"is_weekend\"] = df3[\"day_of_week\"].apply(lambda x:1 if x in [5,6] else 0) # 5 = saturday and 6 = sunday\n",
    "df3[\"quarter\"] = df3[\"Order_Date\"].dt.quarter "
   ]
  },
  {
   "cell_type": "code",
   "execution_count": 58,
   "id": "60fe9e43",
   "metadata": {},
   "outputs": [
    {
     "data": {
      "text/plain": [
       "array([19, 26,  3, 20, 13, 27,  4], dtype=int64)"
      ]
     },
     "execution_count": 58,
     "metadata": {},
     "output_type": "execute_result"
    }
   ],
   "source": [
    "df3[df3[\"is_weekend\"]==1][\"day\"].unique()"
   ]
  },
  {
   "cell_type": "markdown",
   "id": "bfc3b3b2",
   "metadata": {},
   "source": [
    "* Feature Transformation"
   ]
  },
  {
   "cell_type": "code",
   "execution_count": 59,
   "id": "d1c79b6c",
   "metadata": {},
   "outputs": [],
   "source": [
    "# convert categorical column to numerical form \n",
    "cat_cols = df3.select_dtypes(include = \"object\").columns[2:]\n",
    "label_encoder = LabelEncoder()\n",
    "for col in cat_cols:\n",
    "    df3[col] = label_encoder.fit_transform(df3[col])"
   ]
  },
  {
   "cell_type": "code",
   "execution_count": 60,
   "id": "70f5de9d",
   "metadata": {},
   "outputs": [
    {
     "data": {
      "text/html": [
       "<div>\n",
       "<style scoped>\n",
       "    .dataframe tbody tr th:only-of-type {\n",
       "        vertical-align: middle;\n",
       "    }\n",
       "\n",
       "    .dataframe tbody tr th {\n",
       "        vertical-align: top;\n",
       "    }\n",
       "\n",
       "    .dataframe thead th {\n",
       "        text-align: right;\n",
       "    }\n",
       "</style>\n",
       "<table border=\"1\" class=\"dataframe\">\n",
       "  <thead>\n",
       "    <tr style=\"text-align: right;\">\n",
       "      <th></th>\n",
       "      <th>Weather_conditions</th>\n",
       "      <th>Road_traffic_density</th>\n",
       "      <th>Type_of_order</th>\n",
       "      <th>Type_of_vehicle</th>\n",
       "      <th>Festival</th>\n",
       "      <th>City_area</th>\n",
       "      <th>City</th>\n",
       "    </tr>\n",
       "  </thead>\n",
       "  <tbody>\n",
       "    <tr>\n",
       "      <th>32944</th>\n",
       "      <td>1</td>\n",
       "      <td>3</td>\n",
       "      <td>2</td>\n",
       "      <td>2</td>\n",
       "      <td>0</td>\n",
       "      <td>2</td>\n",
       "      <td>9</td>\n",
       "    </tr>\n",
       "    <tr>\n",
       "      <th>7132</th>\n",
       "      <td>5</td>\n",
       "      <td>1</td>\n",
       "      <td>1</td>\n",
       "      <td>3</td>\n",
       "      <td>0</td>\n",
       "      <td>0</td>\n",
       "      <td>7</td>\n",
       "    </tr>\n",
       "    <tr>\n",
       "      <th>42074</th>\n",
       "      <td>1</td>\n",
       "      <td>2</td>\n",
       "      <td>1</td>\n",
       "      <td>1</td>\n",
       "      <td>0</td>\n",
       "      <td>0</td>\n",
       "      <td>11</td>\n",
       "    </tr>\n",
       "    <tr>\n",
       "      <th>26679</th>\n",
       "      <td>5</td>\n",
       "      <td>2</td>\n",
       "      <td>3</td>\n",
       "      <td>3</td>\n",
       "      <td>0</td>\n",
       "      <td>0</td>\n",
       "      <td>5</td>\n",
       "    </tr>\n",
       "  </tbody>\n",
       "</table>\n",
       "</div>"
      ],
      "text/plain": [
       "       Weather_conditions  Road_traffic_density  Type_of_order  \\\n",
       "32944                   1                     3              2   \n",
       "7132                    5                     1              1   \n",
       "42074                   1                     2              1   \n",
       "26679                   5                     2              3   \n",
       "\n",
       "       Type_of_vehicle  Festival  City_area  City  \n",
       "32944                2         0          2     9  \n",
       "7132                 3         0          0     7  \n",
       "42074                1         0          0    11  \n",
       "26679                3         0          0     5  "
      ]
     },
     "execution_count": 60,
     "metadata": {},
     "output_type": "execute_result"
    }
   ],
   "source": [
    "df3[cat_cols].sample(4)"
   ]
  },
  {
   "cell_type": "markdown",
   "id": "8eb31fa4",
   "metadata": {},
   "source": [
    "* Calculating distance between restaurant loc and delivery loc"
   ]
  },
  {
   "cell_type": "code",
   "execution_count": 61,
   "id": "d3833b72",
   "metadata": {},
   "outputs": [],
   "source": [
    "df3.reset_index(drop=True,inplace=True)"
   ]
  },
  {
   "cell_type": "code",
   "execution_count": 62,
   "id": "503fdd65",
   "metadata": {},
   "outputs": [],
   "source": [
    "# using haversine method \n",
    "def haversine_distance(loc_list):\n",
    "    \n",
    "    # earth's radius in km\n",
    "    R = 6371.0\n",
    "    \n",
    "    # convert lat and lon from deg to radians \n",
    "    lat1,lon1,lat2,lon2 = map(np.radians,loc_list)\n",
    "    \n",
    "    # diff between lat and lon\n",
    "    d_lat = lat2 - lat1 \n",
    "    d_lon = lon2 - lon1 \n",
    "        \n",
    "    # applying haversine formula \n",
    "    a = np.sin(d_lat / 2)**2 + np.cos(lat1) * np.cos(lat2) * np.sin(d_lon / 2)**2\n",
    "    c = 2 * np.arctan2(np.sqrt(a), np.sqrt(1 - a))\n",
    "    \n",
    "    d = R * c \n",
    "    \n",
    "    return round(d,2)"
   ]
  },
  {
   "cell_type": "code",
   "execution_count": 63,
   "id": "5cfd48c0",
   "metadata": {},
   "outputs": [],
   "source": [
    "loc_cols = [\"Restaurant_latitude\",\"Restaurant_longitude\",\"Delivery_location_latitude\",\"Delivery_location_longitude\"]"
   ]
  },
  {
   "cell_type": "code",
   "execution_count": 64,
   "id": "8f1811dd",
   "metadata": {
    "scrolled": false
   },
   "outputs": [],
   "source": [
    "distance = []\n",
    "for i in range(len(df3[loc_cols[0]])):\n",
    "    location_list = [df3[loc_cols[j]][i] for j in range(len(loc_cols))]\n",
    "    distance.append(haversine_distance(location_list))"
   ]
  },
  {
   "cell_type": "code",
   "execution_count": 65,
   "id": "e49c23b7",
   "metadata": {},
   "outputs": [],
   "source": [
    "df3[\"Distance\"] = distance "
   ]
  },
  {
   "cell_type": "code",
   "execution_count": 66,
   "id": "23a0236d",
   "metadata": {},
   "outputs": [
    {
     "data": {
      "text/html": [
       "<div>\n",
       "<style scoped>\n",
       "    .dataframe tbody tr th:only-of-type {\n",
       "        vertical-align: middle;\n",
       "    }\n",
       "\n",
       "    .dataframe tbody tr th {\n",
       "        vertical-align: top;\n",
       "    }\n",
       "\n",
       "    .dataframe thead th {\n",
       "        text-align: right;\n",
       "    }\n",
       "</style>\n",
       "<table border=\"1\" class=\"dataframe\">\n",
       "  <thead>\n",
       "    <tr style=\"text-align: right;\">\n",
       "      <th></th>\n",
       "      <th>Delivery_person_Age</th>\n",
       "      <th>Delivery_person_Ratings</th>\n",
       "      <th>Order_Date</th>\n",
       "      <th>Time_Orderd</th>\n",
       "      <th>Time_Order_picked</th>\n",
       "      <th>Weather_conditions</th>\n",
       "      <th>Road_traffic_density</th>\n",
       "      <th>Type_of_order</th>\n",
       "      <th>Type_of_vehicle</th>\n",
       "      <th>multiple_deliveries</th>\n",
       "      <th>...</th>\n",
       "      <th>Delivery_location_latitude</th>\n",
       "      <th>Delivery_location_longitude</th>\n",
       "      <th>Vehicle_condition</th>\n",
       "      <th>Time_taken</th>\n",
       "      <th>month</th>\n",
       "      <th>day</th>\n",
       "      <th>day_of_week</th>\n",
       "      <th>is_weekend</th>\n",
       "      <th>quarter</th>\n",
       "      <th>Distance</th>\n",
       "    </tr>\n",
       "  </thead>\n",
       "  <tbody>\n",
       "    <tr>\n",
       "      <th>0</th>\n",
       "      <td>37.0</td>\n",
       "      <td>4.9</td>\n",
       "      <td>2022-03-19</td>\n",
       "      <td>11:30:00</td>\n",
       "      <td>11:45:00</td>\n",
       "      <td>4</td>\n",
       "      <td>0</td>\n",
       "      <td>3</td>\n",
       "      <td>2</td>\n",
       "      <td>0.0</td>\n",
       "      <td>...</td>\n",
       "      <td>22.765049</td>\n",
       "      <td>75.912471</td>\n",
       "      <td>2</td>\n",
       "      <td>24</td>\n",
       "      <td>3</td>\n",
       "      <td>19</td>\n",
       "      <td>5</td>\n",
       "      <td>1</td>\n",
       "      <td>1</td>\n",
       "      <td>3.03</td>\n",
       "    </tr>\n",
       "    <tr>\n",
       "      <th>1</th>\n",
       "      <td>34.0</td>\n",
       "      <td>4.5</td>\n",
       "      <td>2022-03-25</td>\n",
       "      <td>19:45:00</td>\n",
       "      <td>19:50:00</td>\n",
       "      <td>3</td>\n",
       "      <td>1</td>\n",
       "      <td>3</td>\n",
       "      <td>3</td>\n",
       "      <td>1.0</td>\n",
       "      <td>...</td>\n",
       "      <td>13.043041</td>\n",
       "      <td>77.813237</td>\n",
       "      <td>2</td>\n",
       "      <td>33</td>\n",
       "      <td>3</td>\n",
       "      <td>25</td>\n",
       "      <td>4</td>\n",
       "      <td>0</td>\n",
       "      <td>1</td>\n",
       "      <td>20.18</td>\n",
       "    </tr>\n",
       "    <tr>\n",
       "      <th>2</th>\n",
       "      <td>23.0</td>\n",
       "      <td>4.4</td>\n",
       "      <td>2022-03-19</td>\n",
       "      <td>08:30:00</td>\n",
       "      <td>08:45:00</td>\n",
       "      <td>2</td>\n",
       "      <td>2</td>\n",
       "      <td>1</td>\n",
       "      <td>2</td>\n",
       "      <td>1.0</td>\n",
       "      <td>...</td>\n",
       "      <td>12.924264</td>\n",
       "      <td>77.688400</td>\n",
       "      <td>0</td>\n",
       "      <td>26</td>\n",
       "      <td>3</td>\n",
       "      <td>19</td>\n",
       "      <td>5</td>\n",
       "      <td>1</td>\n",
       "      <td>1</td>\n",
       "      <td>1.55</td>\n",
       "    </tr>\n",
       "    <tr>\n",
       "      <th>3</th>\n",
       "      <td>38.0</td>\n",
       "      <td>4.7</td>\n",
       "      <td>2022-05-04</td>\n",
       "      <td>18:00:00</td>\n",
       "      <td>18:10:00</td>\n",
       "      <td>4</td>\n",
       "      <td>3</td>\n",
       "      <td>0</td>\n",
       "      <td>2</td>\n",
       "      <td>1.0</td>\n",
       "      <td>...</td>\n",
       "      <td>11.053669</td>\n",
       "      <td>77.026494</td>\n",
       "      <td>0</td>\n",
       "      <td>21</td>\n",
       "      <td>5</td>\n",
       "      <td>4</td>\n",
       "      <td>2</td>\n",
       "      <td>0</td>\n",
       "      <td>2</td>\n",
       "      <td>7.79</td>\n",
       "    </tr>\n",
       "    <tr>\n",
       "      <th>4</th>\n",
       "      <td>32.0</td>\n",
       "      <td>4.6</td>\n",
       "      <td>2022-03-26</td>\n",
       "      <td>13:30:00</td>\n",
       "      <td>13:45:00</td>\n",
       "      <td>0</td>\n",
       "      <td>0</td>\n",
       "      <td>3</td>\n",
       "      <td>3</td>\n",
       "      <td>1.0</td>\n",
       "      <td>...</td>\n",
       "      <td>13.012793</td>\n",
       "      <td>80.289982</td>\n",
       "      <td>1</td>\n",
       "      <td>30</td>\n",
       "      <td>3</td>\n",
       "      <td>26</td>\n",
       "      <td>5</td>\n",
       "      <td>1</td>\n",
       "      <td>1</td>\n",
       "      <td>6.21</td>\n",
       "    </tr>\n",
       "  </tbody>\n",
       "</table>\n",
       "<p>5 rows × 25 columns</p>\n",
       "</div>"
      ],
      "text/plain": [
       "   Delivery_person_Age  Delivery_person_Ratings Order_Date Time_Orderd  \\\n",
       "0                 37.0                      4.9 2022-03-19    11:30:00   \n",
       "1                 34.0                      4.5 2022-03-25    19:45:00   \n",
       "2                 23.0                      4.4 2022-03-19    08:30:00   \n",
       "3                 38.0                      4.7 2022-05-04    18:00:00   \n",
       "4                 32.0                      4.6 2022-03-26    13:30:00   \n",
       "\n",
       "  Time_Order_picked  Weather_conditions  Road_traffic_density  Type_of_order  \\\n",
       "0          11:45:00                   4                     0              3   \n",
       "1          19:50:00                   3                     1              3   \n",
       "2          08:45:00                   2                     2              1   \n",
       "3          18:10:00                   4                     3              0   \n",
       "4          13:45:00                   0                     0              3   \n",
       "\n",
       "   Type_of_vehicle  multiple_deliveries  ...  Delivery_location_latitude  \\\n",
       "0                2                  0.0  ...                   22.765049   \n",
       "1                3                  1.0  ...                   13.043041   \n",
       "2                2                  1.0  ...                   12.924264   \n",
       "3                2                  1.0  ...                   11.053669   \n",
       "4                3                  1.0  ...                   13.012793   \n",
       "\n",
       "   Delivery_location_longitude  Vehicle_condition  Time_taken  month  day  \\\n",
       "0                    75.912471                  2          24      3   19   \n",
       "1                    77.813237                  2          33      3   25   \n",
       "2                    77.688400                  0          26      3   19   \n",
       "3                    77.026494                  0          21      5    4   \n",
       "4                    80.289982                  1          30      3   26   \n",
       "\n",
       "   day_of_week  is_weekend  quarter  Distance  \n",
       "0            5           1        1      3.03  \n",
       "1            4           0        1     20.18  \n",
       "2            5           1        1      1.55  \n",
       "3            2           0        2      7.79  \n",
       "4            5           1        1      6.21  \n",
       "\n",
       "[5 rows x 25 columns]"
      ]
     },
     "execution_count": 66,
     "metadata": {},
     "output_type": "execute_result"
    }
   ],
   "source": [
    "df3.head()"
   ]
  },
  {
   "cell_type": "markdown",
   "id": "7fc6c0e4",
   "metadata": {},
   "source": [
    "* <b> Now we will impute the order time value by creating another model </b>"
   ]
  },
  {
   "cell_type": "code",
   "execution_count": 67,
   "id": "fb5da87c",
   "metadata": {},
   "outputs": [
    {
     "data": {
      "text/plain": [
       "Index(['Delivery_person_Age', 'Delivery_person_Ratings', 'Order_Date',\n",
       "       'Time_Orderd', 'Time_Order_picked', 'Weather_conditions',\n",
       "       'Road_traffic_density', 'Type_of_order', 'Type_of_vehicle',\n",
       "       'multiple_deliveries', 'Festival', 'City_area', 'City',\n",
       "       'Restaurant_latitude', 'Restaurant_longitude',\n",
       "       'Delivery_location_latitude', 'Delivery_location_longitude',\n",
       "       'Vehicle_condition', 'Time_taken', 'month', 'day', 'day_of_week',\n",
       "       'is_weekend', 'quarter', 'Distance'],\n",
       "      dtype='object')"
      ]
     },
     "execution_count": 67,
     "metadata": {},
     "output_type": "execute_result"
    }
   ],
   "source": [
    "df5 = df3.copy()\n",
    "df5.columns"
   ]
  },
  {
   "cell_type": "code",
   "execution_count": 68,
   "id": "8970b151",
   "metadata": {},
   "outputs": [
    {
     "data": {
      "text/plain": [
       "(40353, 25)"
      ]
     },
     "execution_count": 68,
     "metadata": {},
     "output_type": "execute_result"
    }
   ],
   "source": [
    "# taking non null order time records for training the model \n",
    "train_val_df = df5[-(df5[\"Time_Orderd\"].isnull())]\n",
    "train_val_df.shape "
   ]
  },
  {
   "cell_type": "code",
   "execution_count": 69,
   "id": "637d6eea",
   "metadata": {},
   "outputs": [],
   "source": [
    "train_val_df = pd.concat([train_val_df.iloc[:,:13],train_val_df.iloc[:,17:]],axis=1)"
   ]
  },
  {
   "cell_type": "code",
   "execution_count": 70,
   "id": "7ff56dd7",
   "metadata": {},
   "outputs": [
    {
     "name": "stdout",
     "output_type": "stream",
     "text": [
      "True\n",
      "True\n"
     ]
    }
   ],
   "source": [
    "# checking for 24 hour format\n",
    "print((pd.to_datetime(train_val_df[\"Time_Orderd\"]).dt.hour>12).max())\n",
    "print((pd.to_datetime(train_val_df[\"Time_Order_picked\"]).dt.hour>12).max())"
   ]
  },
  {
   "cell_type": "code",
   "execution_count": 71,
   "id": "6a1c2d5a",
   "metadata": {},
   "outputs": [
    {
     "data": {
      "text/plain": [
       "array(['00'], dtype=object)"
      ]
     },
     "execution_count": 71,
     "metadata": {},
     "output_type": "execute_result"
    }
   ],
   "source": [
    "train_val_df[train_val_df[\"Time_Order_picked\"]<train_val_df[\"Time_Orderd\"]][\"Time_Order_picked\"].str.split(\":\").str[0].unique()"
   ]
  },
  {
   "cell_type": "code",
   "execution_count": 72,
   "id": "4d813e4e",
   "metadata": {},
   "outputs": [],
   "source": [
    "def order_picked_frac(a):\n",
    "    curr_time = sum([int(item) * 3600/60**i for i,item in enumerate(a.split(\":\"))])\n",
    "    if a.split(\":\")[0]==\"00\":\n",
    "        lag_time = 24 * 3600 \n",
    "        return (lag_time + curr_time)/(24 * 3600)\n",
    "    else:\n",
    "        return curr_time/(24 * 3600)"
   ]
  },
  {
   "cell_type": "code",
   "execution_count": 73,
   "id": "c8e5bf8f",
   "metadata": {},
   "outputs": [],
   "source": [
    "train_val_df[\"order_picked_frac\"] = train_val_df[\"Time_Order_picked\"].apply(lambda x:order_picked_frac(x))"
   ]
  },
  {
   "cell_type": "code",
   "execution_count": 74,
   "id": "0bb523c3",
   "metadata": {},
   "outputs": [],
   "source": [
    "def order_time_frac(a):\n",
    "    if sum(map(int,a.split(\":\")))==0:\n",
    "           return 1.0\n",
    "    else:\n",
    "        return sum([int(item) * 3600/60**i for i,item in enumerate(a.split(\":\"))])/(24*3600)"
   ]
  },
  {
   "cell_type": "code",
   "execution_count": 75,
   "id": "5ee195fc",
   "metadata": {},
   "outputs": [],
   "source": [
    "train_val_df[\"order_time_frac\"] = train_val_df[\"Time_Orderd\"].apply(lambda x:order_time_frac(x))"
   ]
  },
  {
   "cell_type": "code",
   "execution_count": 76,
   "id": "d37695c1",
   "metadata": {},
   "outputs": [
    {
     "data": {
      "text/html": [
       "<div>\n",
       "<style scoped>\n",
       "    .dataframe tbody tr th:only-of-type {\n",
       "        vertical-align: middle;\n",
       "    }\n",
       "\n",
       "    .dataframe tbody tr th {\n",
       "        vertical-align: top;\n",
       "    }\n",
       "\n",
       "    .dataframe thead th {\n",
       "        text-align: right;\n",
       "    }\n",
       "</style>\n",
       "<table border=\"1\" class=\"dataframe\">\n",
       "  <thead>\n",
       "    <tr style=\"text-align: right;\">\n",
       "      <th></th>\n",
       "      <th>Delivery_person_Age</th>\n",
       "      <th>Delivery_person_Ratings</th>\n",
       "      <th>Order_Date</th>\n",
       "      <th>Time_Orderd</th>\n",
       "      <th>Time_Order_picked</th>\n",
       "      <th>Weather_conditions</th>\n",
       "      <th>Road_traffic_density</th>\n",
       "      <th>Type_of_order</th>\n",
       "      <th>Type_of_vehicle</th>\n",
       "      <th>multiple_deliveries</th>\n",
       "      <th>...</th>\n",
       "      <th>Vehicle_condition</th>\n",
       "      <th>Time_taken</th>\n",
       "      <th>month</th>\n",
       "      <th>day</th>\n",
       "      <th>day_of_week</th>\n",
       "      <th>is_weekend</th>\n",
       "      <th>quarter</th>\n",
       "      <th>Distance</th>\n",
       "      <th>order_picked_frac</th>\n",
       "      <th>order_time_frac</th>\n",
       "    </tr>\n",
       "  </thead>\n",
       "  <tbody>\n",
       "    <tr>\n",
       "      <th>0</th>\n",
       "      <td>37.0</td>\n",
       "      <td>4.9</td>\n",
       "      <td>2022-03-19</td>\n",
       "      <td>11:30:00</td>\n",
       "      <td>11:45:00</td>\n",
       "      <td>4</td>\n",
       "      <td>0</td>\n",
       "      <td>3</td>\n",
       "      <td>2</td>\n",
       "      <td>0.0</td>\n",
       "      <td>...</td>\n",
       "      <td>2</td>\n",
       "      <td>24</td>\n",
       "      <td>3</td>\n",
       "      <td>19</td>\n",
       "      <td>5</td>\n",
       "      <td>1</td>\n",
       "      <td>1</td>\n",
       "      <td>3.03</td>\n",
       "      <td>0.489583</td>\n",
       "      <td>0.479167</td>\n",
       "    </tr>\n",
       "    <tr>\n",
       "      <th>1</th>\n",
       "      <td>34.0</td>\n",
       "      <td>4.5</td>\n",
       "      <td>2022-03-25</td>\n",
       "      <td>19:45:00</td>\n",
       "      <td>19:50:00</td>\n",
       "      <td>3</td>\n",
       "      <td>1</td>\n",
       "      <td>3</td>\n",
       "      <td>3</td>\n",
       "      <td>1.0</td>\n",
       "      <td>...</td>\n",
       "      <td>2</td>\n",
       "      <td>33</td>\n",
       "      <td>3</td>\n",
       "      <td>25</td>\n",
       "      <td>4</td>\n",
       "      <td>0</td>\n",
       "      <td>1</td>\n",
       "      <td>20.18</td>\n",
       "      <td>0.826389</td>\n",
       "      <td>0.822917</td>\n",
       "    </tr>\n",
       "    <tr>\n",
       "      <th>2</th>\n",
       "      <td>23.0</td>\n",
       "      <td>4.4</td>\n",
       "      <td>2022-03-19</td>\n",
       "      <td>08:30:00</td>\n",
       "      <td>08:45:00</td>\n",
       "      <td>2</td>\n",
       "      <td>2</td>\n",
       "      <td>1</td>\n",
       "      <td>2</td>\n",
       "      <td>1.0</td>\n",
       "      <td>...</td>\n",
       "      <td>0</td>\n",
       "      <td>26</td>\n",
       "      <td>3</td>\n",
       "      <td>19</td>\n",
       "      <td>5</td>\n",
       "      <td>1</td>\n",
       "      <td>1</td>\n",
       "      <td>1.55</td>\n",
       "      <td>0.364583</td>\n",
       "      <td>0.354167</td>\n",
       "    </tr>\n",
       "    <tr>\n",
       "      <th>3</th>\n",
       "      <td>38.0</td>\n",
       "      <td>4.7</td>\n",
       "      <td>2022-05-04</td>\n",
       "      <td>18:00:00</td>\n",
       "      <td>18:10:00</td>\n",
       "      <td>4</td>\n",
       "      <td>3</td>\n",
       "      <td>0</td>\n",
       "      <td>2</td>\n",
       "      <td>1.0</td>\n",
       "      <td>...</td>\n",
       "      <td>0</td>\n",
       "      <td>21</td>\n",
       "      <td>5</td>\n",
       "      <td>4</td>\n",
       "      <td>2</td>\n",
       "      <td>0</td>\n",
       "      <td>2</td>\n",
       "      <td>7.79</td>\n",
       "      <td>0.756944</td>\n",
       "      <td>0.750000</td>\n",
       "    </tr>\n",
       "    <tr>\n",
       "      <th>4</th>\n",
       "      <td>32.0</td>\n",
       "      <td>4.6</td>\n",
       "      <td>2022-03-26</td>\n",
       "      <td>13:30:00</td>\n",
       "      <td>13:45:00</td>\n",
       "      <td>0</td>\n",
       "      <td>0</td>\n",
       "      <td>3</td>\n",
       "      <td>3</td>\n",
       "      <td>1.0</td>\n",
       "      <td>...</td>\n",
       "      <td>1</td>\n",
       "      <td>30</td>\n",
       "      <td>3</td>\n",
       "      <td>26</td>\n",
       "      <td>5</td>\n",
       "      <td>1</td>\n",
       "      <td>1</td>\n",
       "      <td>6.21</td>\n",
       "      <td>0.572917</td>\n",
       "      <td>0.562500</td>\n",
       "    </tr>\n",
       "  </tbody>\n",
       "</table>\n",
       "<p>5 rows × 23 columns</p>\n",
       "</div>"
      ],
      "text/plain": [
       "   Delivery_person_Age  Delivery_person_Ratings Order_Date Time_Orderd  \\\n",
       "0                 37.0                      4.9 2022-03-19    11:30:00   \n",
       "1                 34.0                      4.5 2022-03-25    19:45:00   \n",
       "2                 23.0                      4.4 2022-03-19    08:30:00   \n",
       "3                 38.0                      4.7 2022-05-04    18:00:00   \n",
       "4                 32.0                      4.6 2022-03-26    13:30:00   \n",
       "\n",
       "  Time_Order_picked  Weather_conditions  Road_traffic_density  Type_of_order  \\\n",
       "0          11:45:00                   4                     0              3   \n",
       "1          19:50:00                   3                     1              3   \n",
       "2          08:45:00                   2                     2              1   \n",
       "3          18:10:00                   4                     3              0   \n",
       "4          13:45:00                   0                     0              3   \n",
       "\n",
       "   Type_of_vehicle  multiple_deliveries  ...  Vehicle_condition  Time_taken  \\\n",
       "0                2                  0.0  ...                  2          24   \n",
       "1                3                  1.0  ...                  2          33   \n",
       "2                2                  1.0  ...                  0          26   \n",
       "3                2                  1.0  ...                  0          21   \n",
       "4                3                  1.0  ...                  1          30   \n",
       "\n",
       "   month  day  day_of_week  is_weekend  quarter  Distance  order_picked_frac  \\\n",
       "0      3   19            5           1        1      3.03           0.489583   \n",
       "1      3   25            4           0        1     20.18           0.826389   \n",
       "2      3   19            5           1        1      1.55           0.364583   \n",
       "3      5    4            2           0        2      7.79           0.756944   \n",
       "4      3   26            5           1        1      6.21           0.572917   \n",
       "\n",
       "   order_time_frac  \n",
       "0         0.479167  \n",
       "1         0.822917  \n",
       "2         0.354167  \n",
       "3         0.750000  \n",
       "4         0.562500  \n",
       "\n",
       "[5 rows x 23 columns]"
      ]
     },
     "execution_count": 76,
     "metadata": {},
     "output_type": "execute_result"
    }
   ],
   "source": [
    "train_val_df.head()"
   ]
  },
  {
   "cell_type": "code",
   "execution_count": 77,
   "id": "0f7fd847",
   "metadata": {},
   "outputs": [],
   "source": [
    "X = train_val_df.drop([\"Order_Date\",\"Time_Orderd\",\"Time_Order_picked\",\"order_time_frac\"],axis=1)\n",
    "y = train_val_df[\"order_time_frac\"]"
   ]
  },
  {
   "cell_type": "code",
   "execution_count": 78,
   "id": "f8ba27b9",
   "metadata": {},
   "outputs": [
    {
     "data": {
      "text/html": [
       "<div>\n",
       "<style scoped>\n",
       "    .dataframe tbody tr th:only-of-type {\n",
       "        vertical-align: middle;\n",
       "    }\n",
       "\n",
       "    .dataframe tbody tr th {\n",
       "        vertical-align: top;\n",
       "    }\n",
       "\n",
       "    .dataframe thead th {\n",
       "        text-align: right;\n",
       "    }\n",
       "</style>\n",
       "<table border=\"1\" class=\"dataframe\">\n",
       "  <thead>\n",
       "    <tr style=\"text-align: right;\">\n",
       "      <th></th>\n",
       "      <th>Delivery_person_Age</th>\n",
       "      <th>Delivery_person_Ratings</th>\n",
       "      <th>Weather_conditions</th>\n",
       "      <th>Road_traffic_density</th>\n",
       "      <th>Type_of_order</th>\n",
       "      <th>Type_of_vehicle</th>\n",
       "      <th>multiple_deliveries</th>\n",
       "      <th>Festival</th>\n",
       "      <th>City_area</th>\n",
       "      <th>City</th>\n",
       "      <th>Vehicle_condition</th>\n",
       "      <th>Time_taken</th>\n",
       "      <th>month</th>\n",
       "      <th>day</th>\n",
       "      <th>day_of_week</th>\n",
       "      <th>is_weekend</th>\n",
       "      <th>quarter</th>\n",
       "      <th>Distance</th>\n",
       "      <th>order_picked_frac</th>\n",
       "    </tr>\n",
       "  </thead>\n",
       "  <tbody>\n",
       "    <tr>\n",
       "      <th>0</th>\n",
       "      <td>37.0</td>\n",
       "      <td>4.9</td>\n",
       "      <td>4</td>\n",
       "      <td>0</td>\n",
       "      <td>3</td>\n",
       "      <td>2</td>\n",
       "      <td>0.0</td>\n",
       "      <td>0</td>\n",
       "      <td>2</td>\n",
       "      <td>10</td>\n",
       "      <td>2</td>\n",
       "      <td>24</td>\n",
       "      <td>3</td>\n",
       "      <td>19</td>\n",
       "      <td>5</td>\n",
       "      <td>1</td>\n",
       "      <td>1</td>\n",
       "      <td>3.03</td>\n",
       "      <td>0.489583</td>\n",
       "    </tr>\n",
       "    <tr>\n",
       "      <th>1</th>\n",
       "      <td>34.0</td>\n",
       "      <td>4.5</td>\n",
       "      <td>3</td>\n",
       "      <td>1</td>\n",
       "      <td>3</td>\n",
       "      <td>3</td>\n",
       "      <td>1.0</td>\n",
       "      <td>0</td>\n",
       "      <td>0</td>\n",
       "      <td>3</td>\n",
       "      <td>2</td>\n",
       "      <td>33</td>\n",
       "      <td>3</td>\n",
       "      <td>25</td>\n",
       "      <td>4</td>\n",
       "      <td>0</td>\n",
       "      <td>1</td>\n",
       "      <td>20.18</td>\n",
       "      <td>0.826389</td>\n",
       "    </tr>\n",
       "    <tr>\n",
       "      <th>2</th>\n",
       "      <td>23.0</td>\n",
       "      <td>4.4</td>\n",
       "      <td>2</td>\n",
       "      <td>2</td>\n",
       "      <td>1</td>\n",
       "      <td>2</td>\n",
       "      <td>1.0</td>\n",
       "      <td>0</td>\n",
       "      <td>2</td>\n",
       "      <td>3</td>\n",
       "      <td>0</td>\n",
       "      <td>26</td>\n",
       "      <td>3</td>\n",
       "      <td>19</td>\n",
       "      <td>5</td>\n",
       "      <td>1</td>\n",
       "      <td>1</td>\n",
       "      <td>1.55</td>\n",
       "      <td>0.364583</td>\n",
       "    </tr>\n",
       "    <tr>\n",
       "      <th>3</th>\n",
       "      <td>38.0</td>\n",
       "      <td>4.7</td>\n",
       "      <td>4</td>\n",
       "      <td>3</td>\n",
       "      <td>0</td>\n",
       "      <td>2</td>\n",
       "      <td>1.0</td>\n",
       "      <td>0</td>\n",
       "      <td>0</td>\n",
       "      <td>6</td>\n",
       "      <td>0</td>\n",
       "      <td>21</td>\n",
       "      <td>5</td>\n",
       "      <td>4</td>\n",
       "      <td>2</td>\n",
       "      <td>0</td>\n",
       "      <td>2</td>\n",
       "      <td>7.79</td>\n",
       "      <td>0.756944</td>\n",
       "    </tr>\n",
       "    <tr>\n",
       "      <th>4</th>\n",
       "      <td>32.0</td>\n",
       "      <td>4.6</td>\n",
       "      <td>0</td>\n",
       "      <td>0</td>\n",
       "      <td>3</td>\n",
       "      <td>3</td>\n",
       "      <td>1.0</td>\n",
       "      <td>0</td>\n",
       "      <td>0</td>\n",
       "      <td>5</td>\n",
       "      <td>1</td>\n",
       "      <td>30</td>\n",
       "      <td>3</td>\n",
       "      <td>26</td>\n",
       "      <td>5</td>\n",
       "      <td>1</td>\n",
       "      <td>1</td>\n",
       "      <td>6.21</td>\n",
       "      <td>0.572917</td>\n",
       "    </tr>\n",
       "  </tbody>\n",
       "</table>\n",
       "</div>"
      ],
      "text/plain": [
       "   Delivery_person_Age  Delivery_person_Ratings  Weather_conditions  \\\n",
       "0                 37.0                      4.9                   4   \n",
       "1                 34.0                      4.5                   3   \n",
       "2                 23.0                      4.4                   2   \n",
       "3                 38.0                      4.7                   4   \n",
       "4                 32.0                      4.6                   0   \n",
       "\n",
       "   Road_traffic_density  Type_of_order  Type_of_vehicle  multiple_deliveries  \\\n",
       "0                     0              3                2                  0.0   \n",
       "1                     1              3                3                  1.0   \n",
       "2                     2              1                2                  1.0   \n",
       "3                     3              0                2                  1.0   \n",
       "4                     0              3                3                  1.0   \n",
       "\n",
       "   Festival  City_area  City  Vehicle_condition  Time_taken  month  day  \\\n",
       "0         0          2    10                  2          24      3   19   \n",
       "1         0          0     3                  2          33      3   25   \n",
       "2         0          2     3                  0          26      3   19   \n",
       "3         0          0     6                  0          21      5    4   \n",
       "4         0          0     5                  1          30      3   26   \n",
       "\n",
       "   day_of_week  is_weekend  quarter  Distance  order_picked_frac  \n",
       "0            5           1        1      3.03           0.489583  \n",
       "1            4           0        1     20.18           0.826389  \n",
       "2            5           1        1      1.55           0.364583  \n",
       "3            2           0        2      7.79           0.756944  \n",
       "4            5           1        1      6.21           0.572917  "
      ]
     },
     "execution_count": 78,
     "metadata": {},
     "output_type": "execute_result"
    }
   ],
   "source": [
    "X.head()"
   ]
  },
  {
   "cell_type": "code",
   "execution_count": 79,
   "id": "fab63f0e",
   "metadata": {},
   "outputs": [
    {
     "data": {
      "text/plain": [
       "0    0.479167\n",
       "1    0.822917\n",
       "2    0.354167\n",
       "3    0.750000\n",
       "4    0.562500\n",
       "Name: order_time_frac, dtype: float64"
      ]
     },
     "execution_count": 79,
     "metadata": {},
     "output_type": "execute_result"
    }
   ],
   "source": [
    "y.head()"
   ]
  },
  {
   "cell_type": "code",
   "execution_count": 80,
   "id": "eec86416",
   "metadata": {},
   "outputs": [
    {
     "name": "stdout",
     "output_type": "stream",
     "text": [
      "X_train_Shape:(34300, 19)\n",
      "X_test_Shape:(6053, 19)\n",
      "y_train.shape:(34300,)\n",
      "y_test.shape:(6053,)\n"
     ]
    }
   ],
   "source": [
    "X_train,X_test,y_train,y_test = train_test_split(X,y,test_size=0.15,random_state = 42)\n",
    "\n",
    "print(f\"X_train_Shape:{X_train.shape}\")\n",
    "print(f\"X_test_Shape:{X_test.shape}\")\n",
    "print(f\"y_train.shape:{y_train.shape}\")\n",
    "print(f\"y_test.shape:{y_test.shape}\")"
   ]
  },
  {
   "cell_type": "code",
   "execution_count": 81,
   "id": "eca43c87",
   "metadata": {},
   "outputs": [
    {
     "data": {
      "text/plain": [
       "RandomForestRegressor(max_depth=15, max_features='sqrt', n_estimators=150)"
      ]
     },
     "execution_count": 81,
     "metadata": {},
     "output_type": "execute_result"
    }
   ],
   "source": [
    "# training model \n",
    "rf = RandomForestRegressor(n_estimators = 150,max_features = \"sqrt\",max_depth = 15 )\n",
    "rf.fit(X_train,y_train)"
   ]
  },
  {
   "cell_type": "code",
   "execution_count": 82,
   "id": "595b7d93",
   "metadata": {},
   "outputs": [
    {
     "name": "stdout",
     "output_type": "stream",
     "text": [
      "Training accuracy:0.9990016131317883\n",
      "Test accuracy:0.9981862659474308\n"
     ]
    }
   ],
   "source": [
    "print(f\"Training accuracy:{rf.score(X_train,y_train)}\")\n",
    "print(f\"Test accuracy:{rf.score(X_test,y_test)}\")"
   ]
  },
  {
   "cell_type": "code",
   "execution_count": 83,
   "id": "3c83a516",
   "metadata": {},
   "outputs": [
    {
     "data": {
      "text/html": [
       "<div>\n",
       "<style scoped>\n",
       "    .dataframe tbody tr th:only-of-type {\n",
       "        vertical-align: middle;\n",
       "    }\n",
       "\n",
       "    .dataframe tbody tr th {\n",
       "        vertical-align: top;\n",
       "    }\n",
       "\n",
       "    .dataframe thead th {\n",
       "        text-align: right;\n",
       "    }\n",
       "</style>\n",
       "<table border=\"1\" class=\"dataframe\">\n",
       "  <thead>\n",
       "    <tr style=\"text-align: right;\">\n",
       "      <th></th>\n",
       "      <th>y_test_pred</th>\n",
       "      <th>y_test</th>\n",
       "    </tr>\n",
       "  </thead>\n",
       "  <tbody>\n",
       "    <tr>\n",
       "      <th>15890</th>\n",
       "      <td>0.767891</td>\n",
       "      <td>0.774306</td>\n",
       "    </tr>\n",
       "    <tr>\n",
       "      <th>2734</th>\n",
       "      <td>0.970328</td>\n",
       "      <td>0.979167</td>\n",
       "    </tr>\n",
       "    <tr>\n",
       "      <th>30297</th>\n",
       "      <td>0.831799</td>\n",
       "      <td>0.826389</td>\n",
       "    </tr>\n",
       "    <tr>\n",
       "      <th>21056</th>\n",
       "      <td>0.779437</td>\n",
       "      <td>0.788194</td>\n",
       "    </tr>\n",
       "    <tr>\n",
       "      <th>30194</th>\n",
       "      <td>0.951283</td>\n",
       "      <td>0.958333</td>\n",
       "    </tr>\n",
       "  </tbody>\n",
       "</table>\n",
       "</div>"
      ],
      "text/plain": [
       "       y_test_pred    y_test\n",
       "15890     0.767891  0.774306\n",
       "2734      0.970328  0.979167\n",
       "30297     0.831799  0.826389\n",
       "21056     0.779437  0.788194\n",
       "30194     0.951283  0.958333"
      ]
     },
     "execution_count": 83,
     "metadata": {},
     "output_type": "execute_result"
    }
   ],
   "source": [
    "y_test_pred = rf.predict(X_test)\n",
    "pred_df = pd.DataFrame({\"y_test_pred\":y_test_pred,\"y_test\":y_test})\n",
    "pred_df.sample(5)"
   ]
  },
  {
   "cell_type": "code",
   "execution_count": 84,
   "id": "564c6596",
   "metadata": {},
   "outputs": [
    {
     "data": {
      "text/plain": [
       "RandomForestRegressor(max_depth=15, max_features='sqrt', n_estimators=150)"
      ]
     },
     "execution_count": 84,
     "metadata": {},
     "output_type": "execute_result"
    }
   ],
   "source": [
    "# Training with all data \n",
    "\n",
    "rf = RandomForestRegressor(n_estimators = 150,max_features = \"sqrt\",max_depth = 15 )\n",
    "rf.fit(X,y)"
   ]
  },
  {
   "cell_type": "markdown",
   "id": "9ba55749",
   "metadata": {},
   "source": [
    "* Preparing the test data"
   ]
  },
  {
   "cell_type": "code",
   "execution_count": 85,
   "id": "493ddce6",
   "metadata": {},
   "outputs": [],
   "source": [
    "test_df = df3[df3[\"Time_Orderd\"].isnull()]\n",
    "test_df= pd.concat([test_df.iloc[:,:13],test_df.iloc[:,17:]],axis=1)"
   ]
  },
  {
   "cell_type": "code",
   "execution_count": 86,
   "id": "58483a8b",
   "metadata": {},
   "outputs": [],
   "source": [
    "test_df[\"order_picked_frac\"] = test_df[\"Time_Order_picked\"].apply(lambda x:order_picked_frac(x))"
   ]
  },
  {
   "cell_type": "code",
   "execution_count": 87,
   "id": "7e0a7f07",
   "metadata": {},
   "outputs": [],
   "source": [
    "X_test = test_df.drop([\"Order_Date\",\"Time_Orderd\",\"Time_Order_picked\"],axis=1)\n",
    "X_test_pred = rf.predict(X_test)\n",
    "test_df[\"order_time_frac\"] = X_test_pred "
   ]
  },
  {
   "cell_type": "code",
   "execution_count": 88,
   "id": "edc2fc53",
   "metadata": {},
   "outputs": [],
   "source": [
    "# convert order_time_frac to order_time \n",
    "\n",
    "hour_s = ((test_df[\"order_time_frac\"]*3600*24)//3600).astype(\"int\") \n",
    "min_s = (((test_df[\"order_time_frac\"]*3600*24)%3600)//60).astype(\"int\")\n",
    "\n",
    "test_df[\"Time_Orderd\"] = hour_s.astype(\"str\").str.zfill(2) + \":\" + min_s.astype(\"str\").str.zfill(2) + \":00\""
   ]
  },
  {
   "cell_type": "markdown",
   "id": "02f8143f",
   "metadata": {},
   "source": [
    "## 5. Outlier Treatment "
   ]
  },
  {
   "cell_type": "code",
   "execution_count": 89,
   "id": "9155eb32",
   "metadata": {},
   "outputs": [],
   "source": [
    "# Combining Data \n",
    "df6 = pd.concat([train_val_df,test_df],axis=0)"
   ]
  },
  {
   "cell_type": "code",
   "execution_count": 90,
   "id": "9190a601",
   "metadata": {},
   "outputs": [
    {
     "name": "stdout",
     "output_type": "stream",
     "text": [
      "          Distance\n",
      "count  41953.00000\n",
      "mean     107.06008\n",
      "std     1146.11866\n",
      "min        1.47000\n",
      "25%        4.66000\n",
      "50%        9.22000\n",
      "75%       13.76000\n",
      "max    19692.67000\n",
      "-----------------\n",
      "0.75    13.76\n",
      "0.80    16.11\n",
      "0.85    16.85\n",
      "0.90    19.40\n",
      "0.95    20.18\n",
      "Name: Distance, dtype: float64\n",
      "-----------------\n"
     ]
    },
    {
     "data": {
      "image/png": "[encoded data removed]",
      "text/plain": [
       "<Figure size 432x288 with 1 Axes>"
      ]
     },
     "metadata": {
      "needs_background": "light"
     },
     "output_type": "display_data"
    }
   ],
   "source": [
    "# lets check distance col\n",
    "print(df6[\"Distance\"].describe().to_frame())\n",
    "print(\"-----------------\")\n",
    "print(df6[\"Distance\"].quantile([0.75,0.8,0.85,0.9,0.95]))\n",
    "print(\"-----------------\")\n",
    "sns.boxplot(df6[\"Distance\"],palette=\"crest\")\n",
    "plt.show()"
   ]
  },
  {
   "cell_type": "markdown",
   "id": "68cb3236",
   "metadata": {},
   "source": [
    "* Clearly there are outliers in the distance column "
   ]
  },
  {
   "cell_type": "code",
   "execution_count": 91,
   "id": "bddf7f81",
   "metadata": {},
   "outputs": [
    {
     "data": {
      "text/html": [
       "<div>\n",
       "<style scoped>\n",
       "    .dataframe tbody tr th:only-of-type {\n",
       "        vertical-align: middle;\n",
       "    }\n",
       "\n",
       "    .dataframe tbody tr th {\n",
       "        vertical-align: top;\n",
       "    }\n",
       "\n",
       "    .dataframe thead th {\n",
       "        text-align: right;\n",
       "    }\n",
       "</style>\n",
       "<table border=\"1\" class=\"dataframe\">\n",
       "  <thead>\n",
       "    <tr style=\"text-align: right;\">\n",
       "      <th></th>\n",
       "      <th>Delivery_person_Age</th>\n",
       "      <th>Delivery_person_Ratings</th>\n",
       "      <th>Order_Date</th>\n",
       "      <th>Time_Orderd</th>\n",
       "      <th>Time_Order_picked</th>\n",
       "      <th>Weather_conditions</th>\n",
       "      <th>Road_traffic_density</th>\n",
       "      <th>Type_of_order</th>\n",
       "      <th>Type_of_vehicle</th>\n",
       "      <th>multiple_deliveries</th>\n",
       "      <th>...</th>\n",
       "      <th>Vehicle_condition</th>\n",
       "      <th>Time_taken</th>\n",
       "      <th>month</th>\n",
       "      <th>day</th>\n",
       "      <th>day_of_week</th>\n",
       "      <th>is_weekend</th>\n",
       "      <th>quarter</th>\n",
       "      <th>Distance</th>\n",
       "      <th>order_picked_frac</th>\n",
       "      <th>order_time_frac</th>\n",
       "    </tr>\n",
       "  </thead>\n",
       "  <tbody>\n",
       "    <tr>\n",
       "      <th>6750</th>\n",
       "      <td>38.0</td>\n",
       "      <td>4.7</td>\n",
       "      <td>2022-11-02</td>\n",
       "      <td>22:04:00</td>\n",
       "      <td>22:20:00</td>\n",
       "      <td>3</td>\n",
       "      <td>2</td>\n",
       "      <td>1</td>\n",
       "      <td>1</td>\n",
       "      <td>1.0</td>\n",
       "      <td>...</td>\n",
       "      <td>3</td>\n",
       "      <td>17</td>\n",
       "      <td>11</td>\n",
       "      <td>2</td>\n",
       "      <td>2</td>\n",
       "      <td>0</td>\n",
       "      <td>4</td>\n",
       "      <td>18387.88</td>\n",
       "      <td>0.930556</td>\n",
       "      <td>0.919484</td>\n",
       "    </tr>\n",
       "    <tr>\n",
       "      <th>24892</th>\n",
       "      <td>38.0</td>\n",
       "      <td>4.7</td>\n",
       "      <td>2022-05-03</td>\n",
       "      <td>22:12:00</td>\n",
       "      <td>22:30:00</td>\n",
       "      <td>0</td>\n",
       "      <td>2</td>\n",
       "      <td>2</td>\n",
       "      <td>2</td>\n",
       "      <td>0.0</td>\n",
       "      <td>...</td>\n",
       "      <td>1</td>\n",
       "      <td>21</td>\n",
       "      <td>5</td>\n",
       "      <td>3</td>\n",
       "      <td>1</td>\n",
       "      <td>0</td>\n",
       "      <td>2</td>\n",
       "      <td>16460.01</td>\n",
       "      <td>0.937500</td>\n",
       "      <td>0.925458</td>\n",
       "    </tr>\n",
       "    <tr>\n",
       "      <th>32606</th>\n",
       "      <td>36.0</td>\n",
       "      <td>4.7</td>\n",
       "      <td>2022-11-02</td>\n",
       "      <td>09:15:00</td>\n",
       "      <td>09:30:00</td>\n",
       "      <td>1</td>\n",
       "      <td>2</td>\n",
       "      <td>0</td>\n",
       "      <td>3</td>\n",
       "      <td>0.0</td>\n",
       "      <td>...</td>\n",
       "      <td>1</td>\n",
       "      <td>15</td>\n",
       "      <td>11</td>\n",
       "      <td>2</td>\n",
       "      <td>2</td>\n",
       "      <td>0</td>\n",
       "      <td>4</td>\n",
       "      <td>3466.32</td>\n",
       "      <td>0.395833</td>\n",
       "      <td>0.385417</td>\n",
       "    </tr>\n",
       "    <tr>\n",
       "      <th>32504</th>\n",
       "      <td>34.0</td>\n",
       "      <td>4.7</td>\n",
       "      <td>2022-05-04</td>\n",
       "      <td>22:51:00</td>\n",
       "      <td>23:20:00</td>\n",
       "      <td>1</td>\n",
       "      <td>2</td>\n",
       "      <td>1</td>\n",
       "      <td>3</td>\n",
       "      <td>1.0</td>\n",
       "      <td>...</td>\n",
       "      <td>3</td>\n",
       "      <td>10</td>\n",
       "      <td>5</td>\n",
       "      <td>4</td>\n",
       "      <td>2</td>\n",
       "      <td>0</td>\n",
       "      <td>2</td>\n",
       "      <td>17900.65</td>\n",
       "      <td>0.972222</td>\n",
       "      <td>0.952098</td>\n",
       "    </tr>\n",
       "    <tr>\n",
       "      <th>40163</th>\n",
       "      <td>30.0</td>\n",
       "      <td>4.8</td>\n",
       "      <td>2022-02-15</td>\n",
       "      <td>10:55:00</td>\n",
       "      <td>11:10:00</td>\n",
       "      <td>4</td>\n",
       "      <td>2</td>\n",
       "      <td>0</td>\n",
       "      <td>2</td>\n",
       "      <td>1.0</td>\n",
       "      <td>...</td>\n",
       "      <td>1</td>\n",
       "      <td>10</td>\n",
       "      <td>2</td>\n",
       "      <td>15</td>\n",
       "      <td>1</td>\n",
       "      <td>0</td>\n",
       "      <td>1</td>\n",
       "      <td>5891.68</td>\n",
       "      <td>0.465278</td>\n",
       "      <td>0.454861</td>\n",
       "    </tr>\n",
       "  </tbody>\n",
       "</table>\n",
       "<p>5 rows × 23 columns</p>\n",
       "</div>"
      ],
      "text/plain": [
       "       Delivery_person_Age  Delivery_person_Ratings Order_Date Time_Orderd  \\\n",
       "6750                  38.0                      4.7 2022-11-02    22:04:00   \n",
       "24892                 38.0                      4.7 2022-05-03    22:12:00   \n",
       "32606                 36.0                      4.7 2022-11-02    09:15:00   \n",
       "32504                 34.0                      4.7 2022-05-04    22:51:00   \n",
       "40163                 30.0                      4.8 2022-02-15    10:55:00   \n",
       "\n",
       "      Time_Order_picked  Weather_conditions  Road_traffic_density  \\\n",
       "6750           22:20:00                   3                     2   \n",
       "24892          22:30:00                   0                     2   \n",
       "32606          09:30:00                   1                     2   \n",
       "32504          23:20:00                   1                     2   \n",
       "40163          11:10:00                   4                     2   \n",
       "\n",
       "       Type_of_order  Type_of_vehicle  multiple_deliveries  ...  \\\n",
       "6750               1                1                  1.0  ...   \n",
       "24892              2                2                  0.0  ...   \n",
       "32606              0                3                  0.0  ...   \n",
       "32504              1                3                  1.0  ...   \n",
       "40163              0                2                  1.0  ...   \n",
       "\n",
       "       Vehicle_condition  Time_taken  month  day  day_of_week  is_weekend  \\\n",
       "6750                   3          17     11    2            2           0   \n",
       "24892                  1          21      5    3            1           0   \n",
       "32606                  1          15     11    2            2           0   \n",
       "32504                  3          10      5    4            2           0   \n",
       "40163                  1          10      2   15            1           0   \n",
       "\n",
       "       quarter  Distance  order_picked_frac  order_time_frac  \n",
       "6750         4  18387.88           0.930556         0.919484  \n",
       "24892        2  16460.01           0.937500         0.925458  \n",
       "32606        4   3466.32           0.395833         0.385417  \n",
       "32504        2  17900.65           0.972222         0.952098  \n",
       "40163        1   5891.68           0.465278         0.454861  \n",
       "\n",
       "[5 rows x 23 columns]"
      ]
     },
     "execution_count": 91,
     "metadata": {},
     "output_type": "execute_result"
    }
   ],
   "source": [
    "df6[df6[\"Distance\"]>=25].sample(5)"
   ]
  },
  {
   "cell_type": "code",
   "execution_count": 92,
   "id": "5c581c9a",
   "metadata": {},
   "outputs": [],
   "source": [
    "# We can drop these records \n",
    "df7 = df6[-(df6[\"Distance\"]>25)]\n",
    "df7.reset_index(drop=True,inplace=True)"
   ]
  },
  {
   "cell_type": "code",
   "execution_count": 93,
   "id": "0c2750d1",
   "metadata": {},
   "outputs": [
    {
     "data": {
      "text/plain": [
       "(41522, 23)"
      ]
     },
     "execution_count": 93,
     "metadata": {},
     "output_type": "execute_result"
    }
   ],
   "source": [
    "df7.shape "
   ]
  },
  {
   "cell_type": "code",
   "execution_count": 94,
   "id": "85f0f4e3",
   "metadata": {},
   "outputs": [
    {
     "data": {
      "text/plain": [
       "(416, 23)"
      ]
     },
     "execution_count": 94,
     "metadata": {},
     "output_type": "execute_result"
    }
   ],
   "source": [
    "# lets check records where order_time > order_picked_time \n",
    "\n",
    "df7[df7[\"order_picked_frac\"]<df7[\"order_time_frac\"]].shape"
   ]
  },
  {
   "cell_type": "code",
   "execution_count": 95,
   "id": "aace4b7b",
   "metadata": {},
   "outputs": [],
   "source": [
    "# creating new column order_prepare_time which is a difference between order_picked_time and order_time \n",
    "\n",
    "order_prepare_time_frac = df7[\"order_picked_frac\"]-df7[\"order_time_frac\"]\n",
    "\n",
    "seconds_in_day = 24 * 3600 \n",
    "\n",
    "df7[\"order_prepare_time\"] = round((order_prepare_time_frac * seconds_in_day)/60,2)"
   ]
  },
  {
   "cell_type": "code",
   "execution_count": 96,
   "id": "6c2062a8",
   "metadata": {
    "scrolled": false
   },
   "outputs": [
    {
     "name": "stdout",
     "output_type": "stream",
     "text": [
      "count    41522.000000\n",
      "mean         9.613523\n",
      "std          7.328370\n",
      "min       -189.570000\n",
      "25%          5.000000\n",
      "50%         10.000000\n",
      "75%         15.000000\n",
      "max         76.150000\n",
      "Name: order_prepare_time, dtype: float64\n",
      "----------------------------\n",
      "0.75    15.0\n",
      "0.80    15.0\n",
      "0.85    15.0\n",
      "0.90    15.0\n",
      "0.95    15.0\n",
      "Name: order_prepare_time, dtype: float64\n",
      "----------------------------\n"
     ]
    },
    {
     "data": {
      "image/png": "[encoded data removed]",
      "text/plain": [
       "<Figure size 432x288 with 1 Axes>"
      ]
     },
     "metadata": {
      "needs_background": "light"
     },
     "output_type": "display_data"
    }
   ],
   "source": [
    "print(df7[\"order_prepare_time\"].describe())\n",
    "\n",
    "print(\"----------------------------\")\n",
    "\n",
    "print(df7[\"order_prepare_time\"].quantile([0.75,0.8,0.85,0.9,0.95]))\n",
    "\n",
    "print(\"----------------------------\")\n",
    "\n",
    "sns.boxplot(df7[\"order_prepare_time\"],palette=\"rocket\")\n",
    "plt.show()"
   ]
  },
  {
   "cell_type": "code",
   "execution_count": 97,
   "id": "d5448e63",
   "metadata": {},
   "outputs": [
    {
     "data": {
      "text/plain": [
       "(416, 24)"
      ]
     },
     "execution_count": 97,
     "metadata": {},
     "output_type": "execute_result"
    }
   ],
   "source": [
    "df7[df7[\"order_prepare_time\"]<0].shape "
   ]
  },
  {
   "cell_type": "code",
   "execution_count": 98,
   "id": "742cb4f1",
   "metadata": {},
   "outputs": [],
   "source": [
    "# We can impute these  order_prepare_time(-) with mean or median\n",
    "\n",
    "df7.loc[df7[df7[\"order_prepare_time\"]<0].index,\"order_prepare_time\"] = df7[\"order_prepare_time\"].median()"
   ]
  },
  {
   "cell_type": "code",
   "execution_count": 99,
   "id": "a9aab2db",
   "metadata": {},
   "outputs": [],
   "source": [
    "# now we can drop some columns & then our data is ready for modelling \n",
    "\n",
    "df8 = df7.drop([\"Order_Date\",\"Time_Orderd\",\"Time_Order_picked\",\"order_picked_frac\",\"order_time_frac\"],axis=1)"
   ]
  },
  {
   "cell_type": "code",
   "execution_count": 100,
   "id": "1c3ea626",
   "metadata": {},
   "outputs": [
    {
     "data": {
      "text/html": [
       "<div>\n",
       "<style scoped>\n",
       "    .dataframe tbody tr th:only-of-type {\n",
       "        vertical-align: middle;\n",
       "    }\n",
       "\n",
       "    .dataframe tbody tr th {\n",
       "        vertical-align: top;\n",
       "    }\n",
       "\n",
       "    .dataframe thead th {\n",
       "        text-align: right;\n",
       "    }\n",
       "</style>\n",
       "<table border=\"1\" class=\"dataframe\">\n",
       "  <thead>\n",
       "    <tr style=\"text-align: right;\">\n",
       "      <th></th>\n",
       "      <th>Delivery_person_Age</th>\n",
       "      <th>Delivery_person_Ratings</th>\n",
       "      <th>Weather_conditions</th>\n",
       "      <th>Road_traffic_density</th>\n",
       "      <th>Type_of_order</th>\n",
       "      <th>Type_of_vehicle</th>\n",
       "      <th>multiple_deliveries</th>\n",
       "      <th>Festival</th>\n",
       "      <th>City_area</th>\n",
       "      <th>City</th>\n",
       "      <th>Vehicle_condition</th>\n",
       "      <th>Time_taken</th>\n",
       "      <th>month</th>\n",
       "      <th>day</th>\n",
       "      <th>day_of_week</th>\n",
       "      <th>is_weekend</th>\n",
       "      <th>quarter</th>\n",
       "      <th>Distance</th>\n",
       "      <th>order_prepare_time</th>\n",
       "    </tr>\n",
       "  </thead>\n",
       "  <tbody>\n",
       "    <tr>\n",
       "      <th>0</th>\n",
       "      <td>37.0</td>\n",
       "      <td>4.9</td>\n",
       "      <td>4</td>\n",
       "      <td>0</td>\n",
       "      <td>3</td>\n",
       "      <td>2</td>\n",
       "      <td>0.0</td>\n",
       "      <td>0</td>\n",
       "      <td>2</td>\n",
       "      <td>10</td>\n",
       "      <td>2</td>\n",
       "      <td>24</td>\n",
       "      <td>3</td>\n",
       "      <td>19</td>\n",
       "      <td>5</td>\n",
       "      <td>1</td>\n",
       "      <td>1</td>\n",
       "      <td>3.03</td>\n",
       "      <td>15.0</td>\n",
       "    </tr>\n",
       "    <tr>\n",
       "      <th>1</th>\n",
       "      <td>34.0</td>\n",
       "      <td>4.5</td>\n",
       "      <td>3</td>\n",
       "      <td>1</td>\n",
       "      <td>3</td>\n",
       "      <td>3</td>\n",
       "      <td>1.0</td>\n",
       "      <td>0</td>\n",
       "      <td>0</td>\n",
       "      <td>3</td>\n",
       "      <td>2</td>\n",
       "      <td>33</td>\n",
       "      <td>3</td>\n",
       "      <td>25</td>\n",
       "      <td>4</td>\n",
       "      <td>0</td>\n",
       "      <td>1</td>\n",
       "      <td>20.18</td>\n",
       "      <td>5.0</td>\n",
       "    </tr>\n",
       "    <tr>\n",
       "      <th>2</th>\n",
       "      <td>23.0</td>\n",
       "      <td>4.4</td>\n",
       "      <td>2</td>\n",
       "      <td>2</td>\n",
       "      <td>1</td>\n",
       "      <td>2</td>\n",
       "      <td>1.0</td>\n",
       "      <td>0</td>\n",
       "      <td>2</td>\n",
       "      <td>3</td>\n",
       "      <td>0</td>\n",
       "      <td>26</td>\n",
       "      <td>3</td>\n",
       "      <td>19</td>\n",
       "      <td>5</td>\n",
       "      <td>1</td>\n",
       "      <td>1</td>\n",
       "      <td>1.55</td>\n",
       "      <td>15.0</td>\n",
       "    </tr>\n",
       "    <tr>\n",
       "      <th>3</th>\n",
       "      <td>38.0</td>\n",
       "      <td>4.7</td>\n",
       "      <td>4</td>\n",
       "      <td>3</td>\n",
       "      <td>0</td>\n",
       "      <td>2</td>\n",
       "      <td>1.0</td>\n",
       "      <td>0</td>\n",
       "      <td>0</td>\n",
       "      <td>6</td>\n",
       "      <td>0</td>\n",
       "      <td>21</td>\n",
       "      <td>5</td>\n",
       "      <td>4</td>\n",
       "      <td>2</td>\n",
       "      <td>0</td>\n",
       "      <td>2</td>\n",
       "      <td>7.79</td>\n",
       "      <td>10.0</td>\n",
       "    </tr>\n",
       "    <tr>\n",
       "      <th>4</th>\n",
       "      <td>32.0</td>\n",
       "      <td>4.6</td>\n",
       "      <td>0</td>\n",
       "      <td>0</td>\n",
       "      <td>3</td>\n",
       "      <td>3</td>\n",
       "      <td>1.0</td>\n",
       "      <td>0</td>\n",
       "      <td>0</td>\n",
       "      <td>5</td>\n",
       "      <td>1</td>\n",
       "      <td>30</td>\n",
       "      <td>3</td>\n",
       "      <td>26</td>\n",
       "      <td>5</td>\n",
       "      <td>1</td>\n",
       "      <td>1</td>\n",
       "      <td>6.21</td>\n",
       "      <td>15.0</td>\n",
       "    </tr>\n",
       "  </tbody>\n",
       "</table>\n",
       "</div>"
      ],
      "text/plain": [
       "   Delivery_person_Age  Delivery_person_Ratings  Weather_conditions  \\\n",
       "0                 37.0                      4.9                   4   \n",
       "1                 34.0                      4.5                   3   \n",
       "2                 23.0                      4.4                   2   \n",
       "3                 38.0                      4.7                   4   \n",
       "4                 32.0                      4.6                   0   \n",
       "\n",
       "   Road_traffic_density  Type_of_order  Type_of_vehicle  multiple_deliveries  \\\n",
       "0                     0              3                2                  0.0   \n",
       "1                     1              3                3                  1.0   \n",
       "2                     2              1                2                  1.0   \n",
       "3                     3              0                2                  1.0   \n",
       "4                     0              3                3                  1.0   \n",
       "\n",
       "   Festival  City_area  City  Vehicle_condition  Time_taken  month  day  \\\n",
       "0         0          2    10                  2          24      3   19   \n",
       "1         0          0     3                  2          33      3   25   \n",
       "2         0          2     3                  0          26      3   19   \n",
       "3         0          0     6                  0          21      5    4   \n",
       "4         0          0     5                  1          30      3   26   \n",
       "\n",
       "   day_of_week  is_weekend  quarter  Distance  order_prepare_time  \n",
       "0            5           1        1      3.03                15.0  \n",
       "1            4           0        1     20.18                 5.0  \n",
       "2            5           1        1      1.55                15.0  \n",
       "3            2           0        2      7.79                10.0  \n",
       "4            5           1        1      6.21                15.0  "
      ]
     },
     "execution_count": 100,
     "metadata": {},
     "output_type": "execute_result"
    }
   ],
   "source": [
    "df8.head()"
   ]
  },
  {
   "cell_type": "markdown",
   "id": "7844eaf9",
   "metadata": {},
   "source": [
    "## 6. Feature Scalling "
   ]
  },
  {
   "cell_type": "code",
   "execution_count": 101,
   "id": "7b96343e",
   "metadata": {},
   "outputs": [],
   "source": [
    "X = df8.drop(\"Time_taken\",axis=1)\n",
    "y = df8[\"Time_taken\"]"
   ]
  },
  {
   "cell_type": "code",
   "execution_count": 102,
   "id": "1511a88c",
   "metadata": {},
   "outputs": [
    {
     "name": "stdout",
     "output_type": "stream",
     "text": [
      "X_train_shape:(35293, 18)\n",
      "X_test_shape:(6229, 18)\n",
      "y_train_shape:(35293,)\n",
      "y_test_shape:(6229,)\n"
     ]
    }
   ],
   "source": [
    "X_train,X_test,y_train,y_test = train_test_split(X,y,test_size = 0.15,random_state = 42)\n",
    "print(f\"X_train_shape:{X_train.shape}\")\n",
    "print(f\"X_test_shape:{X_test.shape}\")\n",
    "print(f\"y_train_shape:{y_train.shape}\")\n",
    "print(f\"y_test_shape:{y_test.shape}\")"
   ]
  },
  {
   "cell_type": "code",
   "execution_count": 103,
   "id": "f10f6f5b",
   "metadata": {},
   "outputs": [
    {
     "data": {
      "text/html": [
       "<div>\n",
       "<style scoped>\n",
       "    .dataframe tbody tr th:only-of-type {\n",
       "        vertical-align: middle;\n",
       "    }\n",
       "\n",
       "    .dataframe tbody tr th {\n",
       "        vertical-align: top;\n",
       "    }\n",
       "\n",
       "    .dataframe thead th {\n",
       "        text-align: right;\n",
       "    }\n",
       "</style>\n",
       "<table border=\"1\" class=\"dataframe\">\n",
       "  <thead>\n",
       "    <tr style=\"text-align: right;\">\n",
       "      <th></th>\n",
       "      <th>Delivery_person_Age</th>\n",
       "      <th>Delivery_person_Ratings</th>\n",
       "      <th>Weather_conditions</th>\n",
       "      <th>Road_traffic_density</th>\n",
       "      <th>Type_of_order</th>\n",
       "      <th>Type_of_vehicle</th>\n",
       "      <th>multiple_deliveries</th>\n",
       "      <th>Festival</th>\n",
       "      <th>City_area</th>\n",
       "      <th>City</th>\n",
       "      <th>Vehicle_condition</th>\n",
       "      <th>month</th>\n",
       "      <th>day</th>\n",
       "      <th>day_of_week</th>\n",
       "      <th>is_weekend</th>\n",
       "      <th>quarter</th>\n",
       "      <th>Distance</th>\n",
       "      <th>order_prepare_time</th>\n",
       "    </tr>\n",
       "  </thead>\n",
       "  <tbody>\n",
       "    <tr>\n",
       "      <th>7568</th>\n",
       "      <td>34.0</td>\n",
       "      <td>4.6</td>\n",
       "      <td>5</td>\n",
       "      <td>0</td>\n",
       "      <td>3</td>\n",
       "      <td>3</td>\n",
       "      <td>1.0</td>\n",
       "      <td>0</td>\n",
       "      <td>2</td>\n",
       "      <td>17</td>\n",
       "      <td>1</td>\n",
       "      <td>9</td>\n",
       "      <td>3</td>\n",
       "      <td>5</td>\n",
       "      <td>1</td>\n",
       "      <td>3</td>\n",
       "      <td>6.22</td>\n",
       "      <td>5.0</td>\n",
       "    </tr>\n",
       "    <tr>\n",
       "      <th>25016</th>\n",
       "      <td>20.0</td>\n",
       "      <td>4.8</td>\n",
       "      <td>1</td>\n",
       "      <td>2</td>\n",
       "      <td>1</td>\n",
       "      <td>1</td>\n",
       "      <td>0.0</td>\n",
       "      <td>0</td>\n",
       "      <td>0</td>\n",
       "      <td>6</td>\n",
       "      <td>2</td>\n",
       "      <td>3</td>\n",
       "      <td>21</td>\n",
       "      <td>0</td>\n",
       "      <td>0</td>\n",
       "      <td>1</td>\n",
       "      <td>3.12</td>\n",
       "      <td>15.0</td>\n",
       "    </tr>\n",
       "    <tr>\n",
       "      <th>1510</th>\n",
       "      <td>27.0</td>\n",
       "      <td>4.4</td>\n",
       "      <td>1</td>\n",
       "      <td>1</td>\n",
       "      <td>1</td>\n",
       "      <td>3</td>\n",
       "      <td>1.0</td>\n",
       "      <td>0</td>\n",
       "      <td>0</td>\n",
       "      <td>3</td>\n",
       "      <td>1</td>\n",
       "      <td>3</td>\n",
       "      <td>20</td>\n",
       "      <td>6</td>\n",
       "      <td>1</td>\n",
       "      <td>1</td>\n",
       "      <td>10.87</td>\n",
       "      <td>5.0</td>\n",
       "    </tr>\n",
       "    <tr>\n",
       "      <th>33425</th>\n",
       "      <td>39.0</td>\n",
       "      <td>4.9</td>\n",
       "      <td>0</td>\n",
       "      <td>1</td>\n",
       "      <td>2</td>\n",
       "      <td>2</td>\n",
       "      <td>2.0</td>\n",
       "      <td>0</td>\n",
       "      <td>0</td>\n",
       "      <td>10</td>\n",
       "      <td>0</td>\n",
       "      <td>6</td>\n",
       "      <td>4</td>\n",
       "      <td>5</td>\n",
       "      <td>1</td>\n",
       "      <td>2</td>\n",
       "      <td>16.64</td>\n",
       "      <td>10.0</td>\n",
       "    </tr>\n",
       "    <tr>\n",
       "      <th>15145</th>\n",
       "      <td>28.0</td>\n",
       "      <td>5.0</td>\n",
       "      <td>5</td>\n",
       "      <td>3</td>\n",
       "      <td>3</td>\n",
       "      <td>3</td>\n",
       "      <td>1.0</td>\n",
       "      <td>0</td>\n",
       "      <td>0</td>\n",
       "      <td>17</td>\n",
       "      <td>2</td>\n",
       "      <td>3</td>\n",
       "      <td>29</td>\n",
       "      <td>1</td>\n",
       "      <td>0</td>\n",
       "      <td>1</td>\n",
       "      <td>12.44</td>\n",
       "      <td>5.0</td>\n",
       "    </tr>\n",
       "  </tbody>\n",
       "</table>\n",
       "</div>"
      ],
      "text/plain": [
       "       Delivery_person_Age  Delivery_person_Ratings  Weather_conditions  \\\n",
       "7568                  34.0                      4.6                   5   \n",
       "25016                 20.0                      4.8                   1   \n",
       "1510                  27.0                      4.4                   1   \n",
       "33425                 39.0                      4.9                   0   \n",
       "15145                 28.0                      5.0                   5   \n",
       "\n",
       "       Road_traffic_density  Type_of_order  Type_of_vehicle  \\\n",
       "7568                      0              3                3   \n",
       "25016                     2              1                1   \n",
       "1510                      1              1                3   \n",
       "33425                     1              2                2   \n",
       "15145                     3              3                3   \n",
       "\n",
       "       multiple_deliveries  Festival  City_area  City  Vehicle_condition  \\\n",
       "7568                   1.0         0          2    17                  1   \n",
       "25016                  0.0         0          0     6                  2   \n",
       "1510                   1.0         0          0     3                  1   \n",
       "33425                  2.0         0          0    10                  0   \n",
       "15145                  1.0         0          0    17                  2   \n",
       "\n",
       "       month  day  day_of_week  is_weekend  quarter  Distance  \\\n",
       "7568       9    3            5           1        3      6.22   \n",
       "25016      3   21            0           0        1      3.12   \n",
       "1510       3   20            6           1        1     10.87   \n",
       "33425      6    4            5           1        2     16.64   \n",
       "15145      3   29            1           0        1     12.44   \n",
       "\n",
       "       order_prepare_time  \n",
       "7568                  5.0  \n",
       "25016                15.0  \n",
       "1510                  5.0  \n",
       "33425                10.0  \n",
       "15145                 5.0  "
      ]
     },
     "execution_count": 103,
     "metadata": {},
     "output_type": "execute_result"
    }
   ],
   "source": [
    "X_train.head()"
   ]
  },
  {
   "cell_type": "code",
   "execution_count": 104,
   "id": "0c7da52e",
   "metadata": {},
   "outputs": [],
   "source": [
    "scaler = MinMaxScaler()\n",
    "\n",
    "X_train[X_train.columns] = scaler.fit_transform(X_train[X_train.columns])\n",
    "X_test[X_test.columns] = scaler.transform(X_test[X_test.columns])"
   ]
  },
  {
   "cell_type": "markdown",
   "id": "26d1bbe9",
   "metadata": {},
   "source": [
    "### 7.Cross Validation "
   ]
  },
  {
   "cell_type": "code",
   "execution_count": 105,
   "id": "38b3b86a",
   "metadata": {},
   "outputs": [
    {
     "name": "stdout",
     "output_type": "stream",
     "text": [
      "Each Model Score\n",
      "0.8156679833713782\n",
      "0.8154769535694097\n",
      "0.8218737499952199\n",
      "0.8168259904105312\n",
      "0.8119006799299235\n",
      "----------------\n",
      "Mean Score\n",
      "0.8163490714552925\n"
     ]
    }
   ],
   "source": [
    "# cross validation with default parameters\n",
    "rf = RandomForestRegressor(random_state = 42)\n",
    "\n",
    "# using 5-fold cross validation \n",
    "cv_scores = cross_val_score(estimator = rf,X = X_train,y = y_train,cv = 5,scoring=\"r2\")\n",
    "\n",
    "print(\"Each Model Score\")\n",
    "\n",
    "for cv_score in cv_scores:\n",
    "    print(cv_score)\n",
    "    \n",
    "print(\"----------------\")\n",
    "\n",
    "print(\"Mean Score\")\n",
    "\n",
    "print(cv_scores.mean())"
   ]
  },
  {
   "cell_type": "code",
   "execution_count": 106,
   "id": "acba5908",
   "metadata": {},
   "outputs": [
    {
     "name": "stdout",
     "output_type": "stream",
     "text": [
      "r2_score on test set:0.8269513454704649\n"
     ]
    }
   ],
   "source": [
    "# Train the model with whole training data and evaluate on test data\n",
    "\n",
    "rf = RandomForestRegressor(random_state = 42)\n",
    "rf.fit(X_train,y_train)\n",
    "\n",
    "y_test_pred = rf.predict(X_test)\n",
    "\n",
    "print(f\"r2_score on test set:{r2_score(y_test,y_test_pred)}\")"
   ]
  },
  {
   "cell_type": "markdown",
   "id": "f598fcd3",
   "metadata": {},
   "source": [
    "### 8.Hyperparameter Tuning with Cross Validation "
   ]
  },
  {
   "cell_type": "code",
   "execution_count": 107,
   "id": "6f05ca99",
   "metadata": {
    "scrolled": true
   },
   "outputs": [
    {
     "name": "stdout",
     "output_type": "stream",
     "text": [
      "Model : Ridge\n",
      "Best Parameter : {'alpha': 0.1}\n",
      "Best r2 Score : 0.48637576223509293\n",
      "-------------------------\n",
      "Model : DecisionTreeRegressor\n",
      "Best Parameter : {'max_depth': 9, 'min_samples_split': 5}\n",
      "Best r2 Score : 0.8025331078566346\n",
      "-------------------------\n",
      "Model : RandomForestRegressor\n",
      "Best Parameter : {'max_depth': 10, 'min_samples_split': 10, 'n_estimators': 300}\n",
      "Best r2 Score : 0.8225109277832463\n",
      "-------------------------\n",
      "Model : XGBRegressor\n",
      "Best Parameter : {'learning_rate': 0.05, 'max_depth': 10, 'n_estimators': 100}\n",
      "Best r2 Score : 0.8248881826059078\n",
      "-------------------------\n",
      "Model : LGBMRegressor\n",
      "Best Parameter : {'learning_rate': 0.05, 'n_estimators': 300, 'num_leaves': 30}\n",
      "Best r2 Score : 0.8247164955567797\n",
      "-------------------------\n"
     ]
    }
   ],
   "source": [
    "n_models = [Ridge(),DecisionTreeRegressor(),RandomForestRegressor(),XGBRegressor(),LGBMRegressor()]\n",
    "\n",
    "model_params = [\n",
    "    {\"alpha\":[0.01,0.1,10,100]},\n",
    "    {\"max_depth\":[3,5,7,9,12],\"min_samples_split\" : [3,5,7]},\n",
    "    {\"max_depth\":[5,10,15,20,25],\"min_samples_split\": [4,7,10],\"n_estimators\":[100,200,300,400]},\n",
    "    {\"learning_rate\":[0.01,0.05,0.1,0.25],\"max_depth\":[5,10,15,20,25],\"n_estimators\":[100,200,300,400]},\n",
    "    {\"num_leaves\":[15,20,25,30],\"learning_rate\":[0.01,0.05,0.1,0.25],\"n_estimators\":[200,300,400,500]}\n",
    "]\n",
    "\n",
    "\n",
    "for model,param in zip(n_models,model_params):\n",
    "    grid_search = GridSearchCV(model,param,cv = 5,scoring=\"r2\")\n",
    "    grid_search.fit(X_train,y_train)\n",
    "    \n",
    "    \n",
    "    print(f\"Model : {model.__class__.__name__}\")\n",
    "    print(\"Best Parameter :\", grid_search.best_params_)\n",
    "    print(\"Best r2 Score :\", grid_search.best_score_)\n",
    "    print(\"-------------------------\")"
   ]
  },
  {
   "cell_type": "markdown",
   "id": "d92f0ad0",
   "metadata": {},
   "source": [
    "### 9.Final Model and Evaluation "
   ]
  },
  {
   "cell_type": "code",
   "execution_count": 112,
   "id": "1683a336",
   "metadata": {},
   "outputs": [
    {
     "name": "stdout",
     "output_type": "stream",
     "text": [
      "r2_score on test:0.8356054866409162\n",
      "Root mean squared error on test:3.798427218052369\n"
     ]
    }
   ],
   "source": [
    "lgbm = LGBMRegressor(learning_rate = 0.05,n_estimators = 300,num_leaves = 30,random_state = 42)\n",
    "\n",
    "lgbm.fit(X_train,y_train)\n",
    "\n",
    "y_test_pred = lgbm.predict(X_test)\n",
    "\n",
    "\n",
    "print(f\"r2_score on test:{r2_score(y_test,y_test_pred)}\")\n",
    "print(f\"Root mean squared error on test:{np.sqrt(mean_squared_error(y_test,y_test_pred))}\")"
   ]
  },
  {
   "cell_type": "code",
   "execution_count": null,
   "id": "c9c523a2",
   "metadata": {},
   "outputs": [],
   "source": []
  }
 ],
 "metadata": {
  "kernelspec": {
   "display_name": "Python 3 (ipykernel)",
   "language": "python",
   "name": "python3"
  },
  "language_info": {
   "codemirror_mode": {
    "name": "ipython",
    "version": 3
   },
   "file_extension": ".py",
   "mimetype": "text/x-python",
   "name": "python",
   "nbconvert_exporter": "python",
   "pygments_lexer": "ipython3",
   "version": "3.10.4"
  }
 },
 "nbformat": 4,
 "nbformat_minor": 5
}
